{
  "nbformat": 4,
  "nbformat_minor": 0,
  "metadata": {
    "colab": {
      "name": "demolinarLab2.ipynb",
      "provenance": []
    },
    "kernelspec": {
      "name": "python3",
      "display_name": "Python 3"
    }
  },
  "cells": [
    {
      "cell_type": "code",
      "metadata": {
        "id": "MfIPPrgdlbfn",
        "colab_type": "code",
        "colab": {
          "base_uri": "https://localhost:8080/",
          "height": 283
        },
        "outputId": "c27fc008-adff-42e3-b8d3-eba5c4f3188d"
      },
      "source": [
        "pip install -U fortran-magic"
      ],
      "execution_count": null,
      "outputs": [
        {
          "output_type": "stream",
          "text": [
            "Requirement already up-to-date: fortran-magic in /usr/local/lib/python3.6/dist-packages (0.7)\n",
            "Requirement already satisfied, skipping upgrade: numpy in /usr/local/lib/python3.6/dist-packages (from fortran-magic) (1.18.5)\n",
            "Requirement already satisfied, skipping upgrade: ipython in /usr/local/lib/python3.6/dist-packages (from fortran-magic) (5.5.0)\n",
            "Requirement already satisfied, skipping upgrade: pexpect; sys_platform != \"win32\" in /usr/local/lib/python3.6/dist-packages (from ipython->fortran-magic) (4.8.0)\n",
            "Requirement already satisfied, skipping upgrade: pickleshare in /usr/local/lib/python3.6/dist-packages (from ipython->fortran-magic) (0.7.5)\n",
            "Requirement already satisfied, skipping upgrade: setuptools>=18.5 in /usr/local/lib/python3.6/dist-packages (from ipython->fortran-magic) (49.6.0)\n",
            "Requirement already satisfied, skipping upgrade: simplegeneric>0.8 in /usr/local/lib/python3.6/dist-packages (from ipython->fortran-magic) (0.8.1)\n",
            "Requirement already satisfied, skipping upgrade: pygments in /usr/local/lib/python3.6/dist-packages (from ipython->fortran-magic) (2.1.3)\n",
            "Requirement already satisfied, skipping upgrade: traitlets>=4.2 in /usr/local/lib/python3.6/dist-packages (from ipython->fortran-magic) (4.3.3)\n",
            "Requirement already satisfied, skipping upgrade: prompt-toolkit<2.0.0,>=1.0.4 in /usr/local/lib/python3.6/dist-packages (from ipython->fortran-magic) (1.0.18)\n",
            "Requirement already satisfied, skipping upgrade: decorator in /usr/local/lib/python3.6/dist-packages (from ipython->fortran-magic) (4.4.2)\n",
            "Requirement already satisfied, skipping upgrade: ptyprocess>=0.5 in /usr/local/lib/python3.6/dist-packages (from pexpect; sys_platform != \"win32\"->ipython->fortran-magic) (0.6.0)\n",
            "Requirement already satisfied, skipping upgrade: six in /usr/local/lib/python3.6/dist-packages (from traitlets>=4.2->ipython->fortran-magic) (1.15.0)\n",
            "Requirement already satisfied, skipping upgrade: ipython-genutils in /usr/local/lib/python3.6/dist-packages (from traitlets>=4.2->ipython->fortran-magic) (0.2.0)\n",
            "Requirement already satisfied, skipping upgrade: wcwidth in /usr/local/lib/python3.6/dist-packages (from prompt-toolkit<2.0.0,>=1.0.4->ipython->fortran-magic) (0.2.5)\n"
          ],
          "name": "stdout"
        }
      ]
    },
    {
      "cell_type": "code",
      "metadata": {
        "id": "YH2PGDw4mO5o",
        "colab_type": "code",
        "colab": {
          "base_uri": "https://localhost:8080/",
          "height": 87
        },
        "outputId": "b80954b1-8b41-4ce0-ab77-c2640ad866bd"
      },
      "source": [
        "\n",
        "%matplotlib inline\n",
        "%load_ext fortranmagic\n",
        "\n",
        "import sys; sys.path.append('..')\n",
        "\n",
        "import pandas as pd\n",
        "import numpy as np\n",
        "import matplotlib as mpl\n",
        "import matplotlib.pyplot as plt\n",
        "import seaborn as sns\n",
        "\n",
        "mpl.rc('figure', figsize=(12, 7))\n",
        "\n",
        "ran_the_first_cell = True\n",
        "\n",
        "jan2017 = pd.to_datetime(['2017-01-03 00:00:00+00:00',\n",
        " '2017-01-04 00:00:00+00:00',\n",
        " '2017-01-05 00:00:00+00:00',\n",
        " '2017-01-06 00:00:00+00:00',\n",
        " '2017-01-09 00:00:00+00:00',\n",
        " '2017-01-10 00:00:00+00:00',\n",
        " '2017-01-11 00:00:00+00:00',\n",
        " '2017-01-12 00:00:00+00:00',\n",
        " '2017-01-13 00:00:00+00:00',\n",
        " '2017-01-17 00:00:00+00:00',\n",
        " '2017-01-18 00:00:00+00:00',\n",
        " '2017-01-19 00:00:00+00:00',\n",
        " '2017-01-20 00:00:00+00:00',\n",
        " '2017-01-23 00:00:00+00:00',\n",
        " '2017-01-24 00:00:00+00:00',\n",
        " '2017-01-25 00:00:00+00:00',\n",
        " '2017-01-26 00:00:00+00:00',\n",
        " '2017-01-27 00:00:00+00:00',\n",
        " '2017-01-30 00:00:00+00:00',\n",
        " '2017-01-31 00:00:00+00:00',\n",
        " '2017-02-01 00:00:00+00:00'])\n",
        "calendar = jan2017.values.astype('datetime64[D]')\n",
        "\n",
        "event_dates = pd.to_datetime(['2017-01-06 00:00:00+00:00', \n",
        "                             '2017-01-07 00:00:00+00:00', \n",
        "                             '2017-01-08 00:00:00+00:00']).values.astype('datetime64[D]')\n",
        "event_values = np.array([10, 15, 20])"
      ],
      "execution_count": null,
      "outputs": [
        {
          "output_type": "stream",
          "text": [
            "/usr/local/lib/python3.6/dist-packages/fortranmagic.py:147: UserWarning: get_ipython_cache_dir has moved to the IPython.paths module since IPython 4.0.\n",
            "  self._lib_dir = os.path.join(get_ipython_cache_dir(), 'fortran')\n"
          ],
          "name": "stderr"
        },
        {
          "output_type": "display_data",
          "data": {
            "application/javascript": [
              "$.getScript(\"https://raw.github.com/marijnh/CodeMirror/master/mode/fortran/fortran.js\", function () {\n",
              "IPython.config.cell_magic_highlight['magic_fortran'] = {'reg':[/^%%fortran/]};});\n"
            ]
          },
          "metadata": {
            "tags": []
          }
        },
        {
          "output_type": "stream",
          "text": [
            "/usr/local/lib/python3.6/dist-packages/statsmodels/tools/_testing.py:19: FutureWarning: pandas.util.testing is deprecated. Use the functions in the public API at pandas.testing instead.\n",
            "  import pandas.util.testing as tm\n"
          ],
          "name": "stderr"
        }
      ]
    },
    {
      "cell_type": "code",
      "metadata": {
        "id": "IqxCH4LPmPF2",
        "colab_type": "code",
        "colab": {}
      },
      "source": [
        "assert ran_the_first_cell, \"Oh noes!\""
      ],
      "execution_count": null,
      "outputs": []
    },
    {
      "cell_type": "code",
      "metadata": {
        "id": "DuBCJjGZmPJN",
        "colab_type": "code",
        "colab": {
          "base_uri": "https://localhost:8080/",
          "height": 34
        },
        "outputId": "f8d3f72a-7522-47f0-91ca-dfb386b4cee3"
      },
      "source": [
        "l = [1, 'two', 3.0, 4, 5.0, \"six\"]\n",
        "l"
      ],
      "execution_count": null,
      "outputs": [
        {
          "output_type": "execute_result",
          "data": {
            "text/plain": [
              "[1, 'two', 3.0, 4, 5.0, 'six']"
            ]
          },
          "metadata": {
            "tags": []
          },
          "execution_count": 4
        }
      ]
    },
    {
      "cell_type": "code",
      "metadata": {
        "id": "97_bXvqdmPMe",
        "colab_type": "code",
        "colab": {
          "base_uri": "https://localhost:8080/",
          "height": 34
        },
        "outputId": "1b6d1d49-5e68-4221-c37a-515811c23e11"
      },
      "source": [
        "#mycode\n",
        "l2=[5.6,'five',100,\"seven\"]\n",
        "l2\n"
      ],
      "execution_count": null,
      "outputs": [
        {
          "output_type": "execute_result",
          "data": {
            "text/plain": [
              "[5.6, 'five', 100, 'seven']"
            ]
          },
          "metadata": {
            "tags": []
          },
          "execution_count": 11
        }
      ]
    },
    {
      "cell_type": "code",
      "metadata": {
        "id": "tU1EyocImPP-",
        "colab_type": "code",
        "colab": {
          "base_uri": "https://localhost:8080/",
          "height": 52
        },
        "outputId": "a06f25e1-9c1b-4125-fd0c-91328c9baa58"
      },
      "source": [
        "# Lists can be indexed like C-style arrays.\n",
        "first = l[0]\n",
        "second = l[1]\n",
        "print(\"first:\", first)\n",
        "print(\"second:\", second)"
      ],
      "execution_count": null,
      "outputs": [
        {
          "output_type": "stream",
          "text": [
            "first: 1\n",
            "second: two\n"
          ],
          "name": "stdout"
        }
      ]
    },
    {
      "cell_type": "code",
      "metadata": {
        "id": "gbH3zEN0mPVx",
        "colab_type": "code",
        "colab": {
          "base_uri": "https://localhost:8080/",
          "height": 52
        },
        "outputId": "25b7cf21-376d-4301-b220-c545eecfdb3e"
      },
      "source": [
        "#mycode\n",
        "first2 = l2[0]\n",
        "second2 = l2[1]\n",
        "print(\"primero:\", first)\n",
        "print(\"segundo:\", second)"
      ],
      "execution_count": null,
      "outputs": [
        {
          "output_type": "stream",
          "text": [
            "primero: 1\n",
            "segundo: two\n"
          ],
          "name": "stdout"
        }
      ]
    },
    {
      "cell_type": "code",
      "metadata": {
        "id": "Iumv3syxmPZH",
        "colab_type": "code",
        "colab": {
          "base_uri": "https://localhost:8080/",
          "height": 52
        },
        "outputId": "7522faea-f3bd-4adc-d71e-d6f86980be6a"
      },
      "source": [
        "# Negative indexing gives elements relative to the end of the list.\n",
        "last = l[-1]\n",
        "penultimate = l[-2]\n",
        "print(\"last:\", last)\n",
        "print(\"second to last:\", penultimate)"
      ],
      "execution_count": null,
      "outputs": [
        {
          "output_type": "stream",
          "text": [
            "last: six\n",
            "second to last: 5.0\n"
          ],
          "name": "stdout"
        }
      ]
    },
    {
      "cell_type": "code",
      "metadata": {
        "id": "rOwDxLKLmPeI",
        "colab_type": "code",
        "colab": {
          "base_uri": "https://localhost:8080/",
          "height": 52
        },
        "outputId": "c4bd5b77-9f92-4247-c637-1dccaadec410"
      },
      "source": [
        "#mycode\n",
        "last2 = l2[-1]\n",
        "penultimate2 = l2[-2]\n",
        "print(\"ultimo:\", last2)\n",
        "print(\"penultimo:\", penultimate2)"
      ],
      "execution_count": null,
      "outputs": [
        {
          "output_type": "stream",
          "text": [
            "ultimo: seven\n",
            "penultimo: 100\n"
          ],
          "name": "stdout"
        }
      ]
    },
    {
      "cell_type": "code",
      "metadata": {
        "id": "MXvBExxHmPh5",
        "colab_type": "code",
        "colab": {
          "base_uri": "https://localhost:8080/",
          "height": 34
        },
        "outputId": "6821567a-ff6f-47b2-c58a-b2d4a26ee6d7"
      },
      "source": [
        "# Lists can also be sliced, which makes a copy of elements between \n",
        "# start (inclusive) and stop (exclusive)\n",
        "sublist = l[1:3]\n",
        "sublist"
      ],
      "execution_count": null,
      "outputs": [
        {
          "output_type": "execute_result",
          "data": {
            "text/plain": [
              "['two', 3.0]"
            ]
          },
          "metadata": {
            "tags": []
          },
          "execution_count": 15
        }
      ]
    },
    {
      "cell_type": "code",
      "metadata": {
        "id": "Cn07ZEkPmPdI",
        "colab_type": "code",
        "colab": {
          "base_uri": "https://localhost:8080/",
          "height": 34
        },
        "outputId": "4146105e-19b1-45e4-a97a-7ca2624e8794"
      },
      "source": [
        "#mycode\n",
        "sublist2 = l2[0:2]\n",
        "sublist2"
      ],
      "execution_count": 16,
      "outputs": [
        {
          "output_type": "execute_result",
          "data": {
            "text/plain": [
              "[5.6, 'five']"
            ]
          },
          "metadata": {
            "tags": []
          },
          "execution_count": 16
        }
      ]
    },
    {
      "cell_type": "code",
      "metadata": {
        "id": "Sx1NXQw0oTLx",
        "colab_type": "code",
        "colab": {
          "base_uri": "https://localhost:8080/",
          "height": 34
        },
        "outputId": "cd8ae018-e82d-4d0b-d76e-598c281b7287"
      },
      "source": [
        "# l[:N] is equivalent to l[0:N].\n",
        "first_three = l[:3]\n",
        "first_three"
      ],
      "execution_count": 17,
      "outputs": [
        {
          "output_type": "execute_result",
          "data": {
            "text/plain": [
              "[1, 'two', 3.0]"
            ]
          },
          "metadata": {
            "tags": []
          },
          "execution_count": 17
        }
      ]
    },
    {
      "cell_type": "code",
      "metadata": {
        "id": "gHYNFSeHoTQ9",
        "colab_type": "code",
        "colab": {
          "base_uri": "https://localhost:8080/",
          "height": 34
        },
        "outputId": "11955f76-e769-43b7-ee02-3d79d55ae6ca"
      },
      "source": [
        "#mycode\n",
        "first_three2 = l2[:4]\n",
        "first_three2"
      ],
      "execution_count": 18,
      "outputs": [
        {
          "output_type": "execute_result",
          "data": {
            "text/plain": [
              "[5.6, 'five', 100, 'seven']"
            ]
          },
          "metadata": {
            "tags": []
          },
          "execution_count": 18
        }
      ]
    },
    {
      "cell_type": "code",
      "metadata": {
        "id": "IY2_bl25oTWo",
        "colab_type": "code",
        "colab": {
          "base_uri": "https://localhost:8080/",
          "height": 34
        },
        "outputId": "e6c6145a-c97d-473d-8415-67170949ea66"
      },
      "source": [
        "# l[3:] is equivalent to l[3:len(l)].\n",
        "after_three = l[3:]\n",
        "after_three"
      ],
      "execution_count": 19,
      "outputs": [
        {
          "output_type": "execute_result",
          "data": {
            "text/plain": [
              "[4, 5.0, 'six']"
            ]
          },
          "metadata": {
            "tags": []
          },
          "execution_count": 19
        }
      ]
    },
    {
      "cell_type": "code",
      "metadata": {
        "id": "Kv9mcwRYoTbz",
        "colab_type": "code",
        "colab": {
          "base_uri": "https://localhost:8080/",
          "height": 34
        },
        "outputId": "9c48e37e-d1b9-40dc-c02a-2387a1c4b832"
      },
      "source": [
        "#mycode\n",
        "after_three = l2[1:]\n",
        "after_three"
      ],
      "execution_count": 20,
      "outputs": [
        {
          "output_type": "execute_result",
          "data": {
            "text/plain": [
              "['five', 100, 'seven']"
            ]
          },
          "metadata": {
            "tags": []
          },
          "execution_count": 20
        }
      ]
    },
    {
      "cell_type": "code",
      "metadata": {
        "id": "IZ8b3Hf5oThL",
        "colab_type": "code",
        "colab": {
          "base_uri": "https://localhost:8080/",
          "height": 34
        },
        "outputId": "564b4ce3-3d69-4508-a132-c7f381937903"
      },
      "source": [
        "# There's also a third parameter, \"step\", which gets every Nth element.\n",
        "l = ['a', 'b', 'c', 'd', 'e', 'f', 'g','h']\n",
        "l[1:7:2]"
      ],
      "execution_count": 21,
      "outputs": [
        {
          "output_type": "execute_result",
          "data": {
            "text/plain": [
              "['b', 'd', 'f']"
            ]
          },
          "metadata": {
            "tags": []
          },
          "execution_count": 21
        }
      ]
    },
    {
      "cell_type": "code",
      "metadata": {
        "id": "J7eBttBKoTm3",
        "colab_type": "code",
        "colab": {
          "base_uri": "https://localhost:8080/",
          "height": 34
        },
        "outputId": "985d2ae5-a51e-4881-b804-cbe60c747a84"
      },
      "source": [
        "l2= ['i', 'j', 'k', 'h', 'l', 'm', 'n']\n",
        "l2[1:7:3]"
      ],
      "execution_count": 23,
      "outputs": [
        {
          "output_type": "execute_result",
          "data": {
            "text/plain": [
              "['j', 'l']"
            ]
          },
          "metadata": {
            "tags": []
          },
          "execution_count": 23
        }
      ]
    },
    {
      "cell_type": "code",
      "metadata": {
        "id": "ZoVh6x7GoTqV",
        "colab_type": "code",
        "colab": {
          "base_uri": "https://localhost:8080/",
          "height": 34
        },
        "outputId": "d6de8ed0-5fea-4ce8-baab-96fc1fd449a6"
      },
      "source": [
        "# This is a cute way to reverse a list.\n",
        "l[::-1]"
      ],
      "execution_count": 24,
      "outputs": [
        {
          "output_type": "execute_result",
          "data": {
            "text/plain": [
              "['h', 'g', 'f', 'e', 'd', 'c', 'b', 'a']"
            ]
          },
          "metadata": {
            "tags": []
          },
          "execution_count": 24
        }
      ]
    },
    {
      "cell_type": "code",
      "metadata": {
        "id": "9z1ZoH1KoTyb",
        "colab_type": "code",
        "colab": {
          "base_uri": "https://localhost:8080/",
          "height": 34
        },
        "outputId": "67691a5a-0c11-4e36-f6ea-56ddcc7c3bdd"
      },
      "source": [
        "#mycode\n",
        "l2[::-1]"
      ],
      "execution_count": 25,
      "outputs": [
        {
          "output_type": "execute_result",
          "data": {
            "text/plain": [
              "['n', 'm', 'l', 'h', 'k', 'j', 'i']"
            ]
          },
          "metadata": {
            "tags": []
          },
          "execution_count": 25
        }
      ]
    },
    {
      "cell_type": "code",
      "metadata": {
        "id": "z-5Ktr4doT38",
        "colab_type": "code",
        "colab": {
          "base_uri": "https://localhost:8080/",
          "height": 52
        },
        "outputId": "1e989d3e-3fba-4431-e5a9-8f3cf464b57f"
      },
      "source": [
        "# Lists can be grown efficiently (in O(1) amortized time).\n",
        "l = [1, 2, 3, 4, 5]\n",
        "print(\"Before:\", l)\n",
        "l.append('six')\n",
        "print(\"After:\", l)"
      ],
      "execution_count": 26,
      "outputs": [
        {
          "output_type": "stream",
          "text": [
            "Before: [1, 2, 3, 4, 5]\n",
            "After: [1, 2, 3, 4, 5, 'six']\n"
          ],
          "name": "stdout"
        }
      ]
    },
    {
      "cell_type": "code",
      "metadata": {
        "id": "kvCjBP1LoT9S",
        "colab_type": "code",
        "colab": {
          "base_uri": "https://localhost:8080/",
          "height": 52
        },
        "outputId": "b46e5490-8ea1-4943-f6e3-f8f9265df853"
      },
      "source": [
        "#mycode\n",
        "l2 = [6, 7, 8, 9, 10, 11, 12]\n",
        "print(\"antes:\", l2)\n",
        "l2.append('eleven')\n",
        "print(\"despues:\", l2)"
      ],
      "execution_count": 27,
      "outputs": [
        {
          "output_type": "stream",
          "text": [
            "antes: [6, 7, 8, 9, 10, 11, 12]\n",
            "despues: [6, 7, 8, 9, 10, 11, 12, 'eleven']\n"
          ],
          "name": "stdout"
        }
      ]
    },
    {
      "cell_type": "code",
      "metadata": {
        "id": "stoA6ar8oUCs",
        "colab_type": "code",
        "colab": {
          "base_uri": "https://localhost:8080/",
          "height": 34
        },
        "outputId": "94361e8a-cc4c-4167-f132-0d7f27a6ece8"
      },
      "source": [
        "# Comprehensions let us perform elementwise computations.\n",
        "l = [1, 2, 3, 4, 5]\n",
        "[x * 2 for x in l]"
      ],
      "execution_count": 28,
      "outputs": [
        {
          "output_type": "execute_result",
          "data": {
            "text/plain": [
              "[2, 4, 6, 8, 10]"
            ]
          },
          "metadata": {
            "tags": []
          },
          "execution_count": 28
        }
      ]
    },
    {
      "cell_type": "code",
      "metadata": {
        "id": "FDAkZlPLoUGa",
        "colab_type": "code",
        "colab": {
          "base_uri": "https://localhost:8080/",
          "height": 34
        },
        "outputId": "b341ffb5-5506-4650-e0b8-71fafd8884ce"
      },
      "source": [
        "#mycode\n",
        "l2 = [1, 2, 3, 4, 5]\n",
        "[y ** 2 for y in l2]"
      ],
      "execution_count": 29,
      "outputs": [
        {
          "output_type": "execute_result",
          "data": {
            "text/plain": [
              "[1, 4, 9, 16, 25]"
            ]
          },
          "metadata": {
            "tags": []
          },
          "execution_count": 29
        }
      ]
    },
    {
      "cell_type": "markdown",
      "metadata": {
        "id": "BijwIG_Ko9Vq",
        "colab_type": "text"
      },
      "source": [
        "\n",
        "# Review: Python Lists"
      ]
    },
    {
      "cell_type": "markdown",
      "metadata": {
        "id": "yljyL6aepCKu",
        "colab_type": "text"
      },
      "source": [
        "## Dictionaries"
      ]
    },
    {
      "cell_type": "code",
      "metadata": {
        "id": "UVq7GeiaoUA7",
        "colab_type": "code",
        "colab": {
          "base_uri": "https://localhost:8080/",
          "height": 34
        },
        "outputId": "2d0f5649-e744-4eb3-ac01-be51caf441fa"
      },
      "source": [
        "# Dictionaries are key-value mappings.\n",
        "philosophers = {'David': 'Hume', 'Immanuel': 'Kant', 'Bertrand': 'Russell'}\n",
        "philosophers"
      ],
      "execution_count": 30,
      "outputs": [
        {
          "output_type": "execute_result",
          "data": {
            "text/plain": [
              "{'Bertrand': 'Russell', 'David': 'Hume', 'Immanuel': 'Kant'}"
            ]
          },
          "metadata": {
            "tags": []
          },
          "execution_count": 30
        }
      ]
    },
    {
      "cell_type": "code",
      "metadata": {
        "id": "XIpGR1IToT7r",
        "colab_type": "code",
        "colab": {
          "base_uri": "https://localhost:8080/",
          "height": 34
        },
        "outputId": "cb63b6ea-9d49-42f5-a912-8a659969140e"
      },
      "source": [
        "#mycode\n",
        "names_ages = {'David': 23, 'Alejandra': 19, 'Adrian': 9}\n",
        "names_ages"
      ],
      "execution_count": 37,
      "outputs": [
        {
          "output_type": "execute_result",
          "data": {
            "text/plain": [
              "{'Adrian': 9, 'Alejandra': 19, 'David': 23}"
            ]
          },
          "metadata": {
            "tags": []
          },
          "execution_count": 37
        }
      ]
    },
    {
      "cell_type": "code",
      "metadata": {
        "id": "md-Vn5VDoT2F",
        "colab_type": "code",
        "colab": {
          "base_uri": "https://localhost:8080/",
          "height": 34
        },
        "outputId": "2dd14eec-7c92-451b-ead8-3c9f3ba41ba2"
      },
      "source": [
        "# Like lists, dictionaries are size-mutable.\n",
        "philosophers['Ludwig'] = 'Wittgenstein'\n",
        "philosophers"
      ],
      "execution_count": 38,
      "outputs": [
        {
          "output_type": "execute_result",
          "data": {
            "text/plain": [
              "{'Bertrand': 'Russell', 'Immanuel': 'Kant', 'Ludwig': 'Wittgenstein'}"
            ]
          },
          "metadata": {
            "tags": []
          },
          "execution_count": 38
        }
      ]
    },
    {
      "cell_type": "code",
      "metadata": {
        "id": "I4-6uBbvoTw-",
        "colab_type": "code",
        "colab": {
          "base_uri": "https://localhost:8080/",
          "height": 34
        },
        "outputId": "f6a046e4-fb64-478b-d690-e80026c83f88"
      },
      "source": [
        "#mycode\n",
        "names_ages['Adrian']=8\n",
        "names_ages"
      ],
      "execution_count": 39,
      "outputs": [
        {
          "output_type": "execute_result",
          "data": {
            "text/plain": [
              "{'Adrian': 8, 'Alejandra': 19, 'David': 23}"
            ]
          },
          "metadata": {
            "tags": []
          },
          "execution_count": 39
        }
      ]
    },
    {
      "cell_type": "code",
      "metadata": {
        "id": "8er7kw1-pbN_",
        "colab_type": "code",
        "colab": {
          "base_uri": "https://localhost:8080/",
          "height": 185
        },
        "outputId": "f3101d2d-c51c-4f42-afe9-f07580b266ff"
      },
      "source": [
        "del philosophers['David']\n",
        "philosophers"
      ],
      "execution_count": 40,
      "outputs": [
        {
          "output_type": "error",
          "ename": "KeyError",
          "evalue": "ignored",
          "traceback": [
            "\u001b[0;31m---------------------------------------------------------------------------\u001b[0m",
            "\u001b[0;31mKeyError\u001b[0m                                  Traceback (most recent call last)",
            "\u001b[0;32m<ipython-input-40-6fdb6b9a2f8c>\u001b[0m in \u001b[0;36m<module>\u001b[0;34m()\u001b[0m\n\u001b[0;32m----> 1\u001b[0;31m \u001b[0;32mdel\u001b[0m \u001b[0mphilosophers\u001b[0m\u001b[0;34m[\u001b[0m\u001b[0;34m'David'\u001b[0m\u001b[0;34m]\u001b[0m\u001b[0;34m\u001b[0m\u001b[0;34m\u001b[0m\u001b[0m\n\u001b[0m\u001b[1;32m      2\u001b[0m \u001b[0mphilosophers\u001b[0m\u001b[0;34m\u001b[0m\u001b[0;34m\u001b[0m\u001b[0m\n",
            "\u001b[0;31mKeyError\u001b[0m: 'David'"
          ]
        }
      ]
    },
    {
      "cell_type": "code",
      "metadata": {
        "id": "ZNYU_PfjoTvp",
        "colab_type": "code",
        "colab": {
          "base_uri": "https://localhost:8080/",
          "height": 221
        },
        "outputId": "a4cfc824-fb73-46ef-d2c2-78bca3487669"
      },
      "source": [
        "\n",
        "#mycode\n",
        "del names_ages['Adrian']\n",
        "names_ages"
      ],
      "execution_count": 42,
      "outputs": [
        {
          "output_type": "error",
          "ename": "KeyError",
          "evalue": "ignored",
          "traceback": [
            "\u001b[0;31m---------------------------------------------------------------------------\u001b[0m",
            "\u001b[0;31mKeyError\u001b[0m                                  Traceback (most recent call last)",
            "\u001b[0;32m<ipython-input-42-db7a822918f5>\u001b[0m in \u001b[0;36m<module>\u001b[0;34m()\u001b[0m\n\u001b[1;32m      1\u001b[0m \u001b[0;34m\u001b[0m\u001b[0m\n\u001b[1;32m      2\u001b[0m \u001b[0;31m#mycode\u001b[0m\u001b[0;34m\u001b[0m\u001b[0;34m\u001b[0m\u001b[0;34m\u001b[0m\u001b[0m\n\u001b[0;32m----> 3\u001b[0;31m \u001b[0;32mdel\u001b[0m \u001b[0mnames_ages\u001b[0m\u001b[0;34m[\u001b[0m\u001b[0;34m'Adrian'\u001b[0m\u001b[0;34m]\u001b[0m\u001b[0;34m\u001b[0m\u001b[0;34m\u001b[0m\u001b[0m\n\u001b[0m\u001b[1;32m      4\u001b[0m \u001b[0mnames_ages\u001b[0m\u001b[0;34m\u001b[0m\u001b[0;34m\u001b[0m\u001b[0m\n",
            "\u001b[0;31mKeyError\u001b[0m: 'Adrian'"
          ]
        }
      ]
    },
    {
      "cell_type": "code",
      "metadata": {
        "id": "dSpSH18DoTk4",
        "colab_type": "code",
        "colab": {}
      },
      "source": [
        "# No slicing.\n",
        "#philosophers['Bertrand':'Immanuel']"
      ],
      "execution_count": 36,
      "outputs": []
    },
    {
      "cell_type": "markdown",
      "metadata": {
        "id": "XWKflAOjpkSM",
        "colab_type": "text"
      },
      "source": [
        "# Review: Python Dictionaries"
      ]
    },
    {
      "cell_type": "code",
      "metadata": {
        "id": "HFtAJi5aoTfp",
        "colab_type": "code",
        "colab": {}
      },
      "source": [
        "\n",
        "# Suppose we have some matrices...\n",
        "a = [[1, 2, 3],\n",
        "     [2, 3, 4],\n",
        "     [5, 6, 7],\n",
        "     [1, 1, 1]]\n",
        "b = [[1, 2, 3, 4],\n",
        "     [2, 3, 4, 5]]"
      ],
      "execution_count": 49,
      "outputs": []
    },
    {
      "cell_type": "code",
      "metadata": {
        "id": "4_WT-0Bmpo7h",
        "colab_type": "code",
        "colab": {}
      },
      "source": [
        "#mycode\n",
        "a2 = [[11, 12, 13],\n",
        "     [21, 22, 23],\n",
        "     [31, 32, 33],\n",
        "     [41, 42, 43]]\n",
        "b2 = [[10, 20, 30, 40],\n",
        "     [20, 30, 40, 50]]"
      ],
      "execution_count": 44,
      "outputs": []
    },
    {
      "cell_type": "code",
      "metadata": {
        "id": "Dffs0tAappBl",
        "colab_type": "code",
        "colab": {}
      },
      "source": [
        "def matmul(A, B):\n",
        "    \"\"\"Multiply matrix A by matrix B.\"\"\"\n",
        "    rows_out = len(A)\n",
        "    cols_out = len(B[0])\n",
        "    out = [[0 for col in range(cols_out)] for row in range(rows_out)]\n",
        "    \n",
        "    for i in range(rows_out):\n",
        "        for j in range(cols_out):\n",
        "            for k in range(len(B)):\n",
        "                out[i][j] += A[i][k] * B[k][j]\n",
        "    return out"
      ],
      "execution_count": 45,
      "outputs": []
    },
    {
      "cell_type": "code",
      "metadata": {
        "id": "1p0qUx2tppJN",
        "colab_type": "code",
        "colab": {}
      },
      "source": [
        "#mycode\n",
        "def matmul2(A, B):\n",
        "    rows_out = len(A)\n",
        "    cols_out = len(B[0])\n",
        "    out = [[0 for col in range(cols_out)] for row in range(rows_out)]\n",
        "    \n",
        "    for i in range(rows_out):\n",
        "        for j in range(cols_out):\n",
        "            for k in range(len(B)):\n",
        "                out[i][j] += A[i][k] * B[k][j]\n",
        "    return out"
      ],
      "execution_count": 46,
      "outputs": []
    },
    {
      "cell_type": "code",
      "metadata": {
        "id": "OC1lhSg2ppRp",
        "colab_type": "code",
        "colab": {
          "base_uri": "https://localhost:8080/",
          "height": 70
        },
        "outputId": "fc33296e-367d-4ed1-cb0f-e3ab902f9475"
      },
      "source": [
        "%%time\n",
        "matmul(a, b)"
      ],
      "execution_count": 50,
      "outputs": [
        {
          "output_type": "stream",
          "text": [
            "CPU times: user 28 µs, sys: 5 µs, total: 33 µs\n",
            "Wall time: 36.7 µs\n"
          ],
          "name": "stdout"
        },
        {
          "output_type": "execute_result",
          "data": {
            "text/plain": [
              "[[5, 8, 11, 14], [8, 13, 18, 23], [17, 28, 39, 50], [3, 5, 7, 9]]"
            ]
          },
          "metadata": {
            "tags": []
          },
          "execution_count": 50
        }
      ]
    },
    {
      "cell_type": "code",
      "metadata": {
        "id": "6p7DE3pippac",
        "colab_type": "code",
        "colab": {
          "base_uri": "https://localhost:8080/",
          "height": 123
        },
        "outputId": "3236b394-9aa8-4147-c8a7-660174362d93"
      },
      "source": [
        "#mycode\n",
        "%%time\n",
        "matmul2(a2, b2)"
      ],
      "execution_count": 48,
      "outputs": [
        {
          "output_type": "stream",
          "text": [
            "CPU times: user 25 µs, sys: 0 ns, total: 25 µs\n",
            "Wall time: 28.1 µs\n"
          ],
          "name": "stdout"
        },
        {
          "output_type": "execute_result",
          "data": {
            "text/plain": [
              "[[350, 580, 810, 1040],\n",
              " [650, 1080, 1510, 1940],\n",
              " [950, 1580, 2210, 2840],\n",
              " [1250, 2080, 2910, 3740]]"
            ]
          },
          "metadata": {
            "tags": []
          },
          "execution_count": 48
        }
      ]
    },
    {
      "cell_type": "code",
      "metadata": {
        "id": "R9VWyWXqppkB",
        "colab_type": "code",
        "colab": {
          "base_uri": "https://localhost:8080/",
          "height": 52
        },
        "outputId": "5cb052b0-4104-4106-eeb1-3a8634aa60c0"
      },
      "source": [
        "import random\n",
        "def random_matrix(m, n):\n",
        "    out = []\n",
        "    for row in range(m):\n",
        "        out.append([random.random() for _ in range(n)])\n",
        "    return out\n",
        "\n",
        "randm = random_matrix(2, 3)\n",
        "randm"
      ],
      "execution_count": 51,
      "outputs": [
        {
          "output_type": "execute_result",
          "data": {
            "text/plain": [
              "[[0.8355686394144609, 0.9966194459408912, 0.8606428049291813],\n",
              " [0.9666305492155056, 0.03873107029041445, 0.07059393248869539]]"
            ]
          },
          "metadata": {
            "tags": []
          },
          "execution_count": 51
        }
      ]
    },
    {
      "cell_type": "code",
      "metadata": {
        "id": "Gf5DBssLppt9",
        "colab_type": "code",
        "colab": {
          "base_uri": "https://localhost:8080/",
          "height": 372
        },
        "outputId": "045cf04f-fd8a-4a12-f400-f0a571505f87"
      },
      "source": [
        "#mycode\n",
        "import random\n",
        "def random_matrix2(m, n):\n",
        "    out = []\n",
        "    for row in range(m):\n",
        "        out.append([random.random() for _ in range(n)])\n",
        "    return out\n",
        "randm2 = random_matrix2(5, 4)\n",
        "randm2"
      ],
      "execution_count": 53,
      "outputs": [
        {
          "output_type": "execute_result",
          "data": {
            "text/plain": [
              "[[0.7891428871249786,\n",
              "  0.8161650308858187,\n",
              "  0.273663240077333,\n",
              "  0.4029842997604558],\n",
              " [0.18500396003279052,\n",
              "  0.23007624139031468,\n",
              "  0.8439939155896681,\n",
              "  0.3330464256035949],\n",
              " [0.9837100845501954,\n",
              "  0.2110563513263639,\n",
              "  0.7981136530220118,\n",
              "  0.5501378615631763],\n",
              " [0.04811922027571425,\n",
              "  0.08677919149840885,\n",
              "  0.21014323557505865,\n",
              "  0.7958870628152666],\n",
              " [0.03729071365798575,\n",
              "  0.6397419609745949,\n",
              "  0.9957498688289754,\n",
              "  0.8346815193552537]]"
            ]
          },
          "metadata": {
            "tags": []
          },
          "execution_count": 53
        }
      ]
    },
    {
      "cell_type": "code",
      "metadata": {
        "id": "gT0ciAsPpp0r",
        "colab_type": "code",
        "colab": {
          "base_uri": "https://localhost:8080/",
          "height": 52
        },
        "outputId": "3bc4cd89-0698-4845-bae7-49be57c16db1"
      },
      "source": [
        "%%time\n",
        "randa = random_matrix(600, 100)\n",
        "randb = random_matrix(100, 600)\n",
        "x = matmul(randa, randb)"
      ],
      "execution_count": 54,
      "outputs": [
        {
          "output_type": "stream",
          "text": [
            "CPU times: user 6.87 s, sys: 8.47 ms, total: 6.88 s\n",
            "Wall time: 6.89 s\n"
          ],
          "name": "stdout"
        }
      ]
    },
    {
      "cell_type": "code",
      "metadata": {
        "id": "elAqmFOYpp6H",
        "colab_type": "code",
        "colab": {
          "base_uri": "https://localhost:8080/",
          "height": 52
        },
        "outputId": "1ff2981e-43c2-4363-c50e-7afe1a7cd4d4"
      },
      "source": [
        "#mycode\n",
        "%%time\n",
        "randa2 = random_matrix(1400, 1200)\n",
        "randb2 = random_matrix(20, 100)\n",
        "x2 = matmul(randa2, randb2)"
      ],
      "execution_count": 55,
      "outputs": [
        {
          "output_type": "stream",
          "text": [
            "CPU times: user 709 ms, sys: 49.1 ms, total: 758 ms\n",
            "Wall time: 763 ms\n"
          ],
          "name": "stdout"
        }
      ]
    },
    {
      "cell_type": "code",
      "metadata": {
        "id": "LHXga1ubqzuG",
        "colab_type": "code",
        "colab": {}
      },
      "source": [
        "# Maybe that's not that bad?  Let's try a simpler case.\n",
        "def python_dot_product(xs, ys):\n",
        "    return sum(x * y for x, y in zip(xs, ys))"
      ],
      "execution_count": 56,
      "outputs": []
    },
    {
      "cell_type": "code",
      "metadata": {
        "id": "-c9Q45eoppyt",
        "colab_type": "code",
        "colab": {}
      },
      "source": [
        "%%fortran\n",
        "subroutine fortran_dot_product(xs, ys, result)\n",
        "    double precision, intent(in) :: xs(:)\n",
        "    double precision, intent(in) :: ys(:)\n",
        "    double precision, intent(out) :: result\n",
        "    \n",
        "    result = sum(xs * ys)\n",
        "end"
      ],
      "execution_count": 57,
      "outputs": []
    },
    {
      "cell_type": "code",
      "metadata": {
        "id": "uWyu42CWppsE",
        "colab_type": "code",
        "colab": {}
      },
      "source": [
        "list_data = [float(i) for i in range(100000)]\n",
        "array_data = np.array(list_data)"
      ],
      "execution_count": 58,
      "outputs": []
    },
    {
      "cell_type": "code",
      "metadata": {
        "id": "i7FK-0LEppqO",
        "colab_type": "code",
        "colab": {}
      },
      "source": [
        "#mycode\n",
        "list_data2 = [float(i) for i in range(1000000)]\n",
        "array_data2 = np.array(list_data2)"
      ],
      "execution_count": 59,
      "outputs": []
    },
    {
      "cell_type": "code",
      "metadata": {
        "id": "u5tdEXutppil",
        "colab_type": "code",
        "colab": {
          "base_uri": "https://localhost:8080/",
          "height": 70
        },
        "outputId": "097c7487-3af6-4327-f063-3d7b00ad24bc"
      },
      "source": [
        "%%time\n",
        "python_dot_product(list_data, list_data)"
      ],
      "execution_count": 60,
      "outputs": [
        {
          "output_type": "stream",
          "text": [
            "CPU times: user 8.09 ms, sys: 0 ns, total: 8.09 ms\n",
            "Wall time: 8.11 ms\n"
          ],
          "name": "stdout"
        },
        {
          "output_type": "execute_result",
          "data": {
            "text/plain": [
              "333328333350000.0"
            ]
          },
          "metadata": {
            "tags": []
          },
          "execution_count": 60
        }
      ]
    },
    {
      "cell_type": "code",
      "metadata": {
        "id": "bUaSIi9appfP",
        "colab_type": "code",
        "colab": {
          "base_uri": "https://localhost:8080/",
          "height": 70
        },
        "outputId": "f9889606-4312-4daa-8f65-0451414292d5"
      },
      "source": [
        "#mycode\n",
        "%%time\n",
        "python_dot_product(list_data2, list_data2)"
      ],
      "execution_count": 61,
      "outputs": [
        {
          "output_type": "stream",
          "text": [
            "CPU times: user 78.3 ms, sys: 0 ns, total: 78.3 ms\n",
            "Wall time: 79.6 ms\n"
          ],
          "name": "stdout"
        },
        {
          "output_type": "execute_result",
          "data": {
            "text/plain": [
              "3.3333283333312755e+17"
            ]
          },
          "metadata": {
            "tags": []
          },
          "execution_count": 61
        }
      ]
    },
    {
      "cell_type": "code",
      "metadata": {
        "id": "pVUQu-dRppYZ",
        "colab_type": "code",
        "colab": {
          "base_uri": "https://localhost:8080/",
          "height": 70
        },
        "outputId": "cf8e24cf-914a-4032-8683-01936d4c5109"
      },
      "source": [
        "%%time\n",
        "fortran_dot_product(array_data, array_data)"
      ],
      "execution_count": 62,
      "outputs": [
        {
          "output_type": "stream",
          "text": [
            "CPU times: user 216 µs, sys: 0 ns, total: 216 µs\n",
            "Wall time: 223 µs\n"
          ],
          "name": "stdout"
        },
        {
          "output_type": "execute_result",
          "data": {
            "text/plain": [
              "333328333350000.0"
            ]
          },
          "metadata": {
            "tags": []
          },
          "execution_count": 62
        }
      ]
    },
    {
      "cell_type": "code",
      "metadata": {
        "id": "JeUNU4xoppWO",
        "colab_type": "code",
        "colab": {
          "base_uri": "https://localhost:8080/",
          "height": 70
        },
        "outputId": "60b4e9a2-4c42-4fe7-83d6-24ab4af5a163"
      },
      "source": [
        "#mycode\n",
        "%%time\n",
        "fortran_dot_product(array_data2, array_data2)"
      ],
      "execution_count": 63,
      "outputs": [
        {
          "output_type": "stream",
          "text": [
            "CPU times: user 2.04 ms, sys: 0 ns, total: 2.04 ms\n",
            "Wall time: 2.11 ms\n"
          ],
          "name": "stdout"
        },
        {
          "output_type": "execute_result",
          "data": {
            "text/plain": [
              "3.3333283333312755e+17"
            ]
          },
          "metadata": {
            "tags": []
          },
          "execution_count": 63
        }
      ]
    },
    {
      "cell_type": "markdown",
      "metadata": {
        "id": "e4sTlk5JrZsd",
        "colab_type": "text"
      },
      "source": [
        "# Why is the Python Version so Much Slower?"
      ]
    },
    {
      "cell_type": "code",
      "metadata": {
        "id": "_KEtjzs3ppPk",
        "colab_type": "code",
        "colab": {
          "base_uri": "https://localhost:8080/",
          "height": 34
        },
        "outputId": "0683f8c3-8aaa-4dd8-ba1b-0a78d146b398"
      },
      "source": [
        "# Dynamic typing.\n",
        "def mul_elemwise(xs, ys):\n",
        "    return [x * y for x, y in zip(xs, ys)]\n",
        "\n",
        "mul_elemwise([1, 2, 3, 4], [1, 2 + 0j, 3.0, 'four'])\n",
        "#[type(x) for x in _]"
      ],
      "execution_count": 64,
      "outputs": [
        {
          "output_type": "execute_result",
          "data": {
            "text/plain": [
              "[1, (4+0j), 9.0, 'fourfourfourfour']"
            ]
          },
          "metadata": {
            "tags": []
          },
          "execution_count": 64
        }
      ]
    },
    {
      "cell_type": "code",
      "metadata": {
        "id": "nIpkF89CrgG9",
        "colab_type": "code",
        "colab": {
          "base_uri": "https://localhost:8080/",
          "height": 34
        },
        "outputId": "5c3715a8-bb7e-4925-dffb-4ab0201e60c5"
      },
      "source": [
        "#mycode.\n",
        "def mul_elemwise2(xs, ys):\n",
        "    return [x * y for x, y in zip(xs, ys)]\n",
        "mul_elemwise2([2,4,6,8], [4,5+ 2j, 7.8, 'five'])"
      ],
      "execution_count": 66,
      "outputs": [
        {
          "output_type": "execute_result",
          "data": {
            "text/plain": [
              "[8, (20+8j), 46.8, 'fivefivefivefivefivefivefivefive']"
            ]
          },
          "metadata": {
            "tags": []
          },
          "execution_count": 66
        }
      ]
    },
    {
      "cell_type": "code",
      "metadata": {
        "id": "dOvP2MLRrgXO",
        "colab_type": "code",
        "colab": {
          "base_uri": "https://localhost:8080/",
          "height": 123
        },
        "outputId": "2a4ddfd7-6f74-4f10-855e-d294243257d6"
      },
      "source": [
        "# Interpretation overhead.\n",
        "source_code = 'a + b * c'\n",
        "bytecode = compile(source_code, '', 'eval')\n",
        "import dis; dis.dis(bytecode)"
      ],
      "execution_count": 67,
      "outputs": [
        {
          "output_type": "stream",
          "text": [
            "  1           0 LOAD_NAME                0 (a)\n",
            "              2 LOAD_NAME                1 (b)\n",
            "              4 LOAD_NAME                2 (c)\n",
            "              6 BINARY_MULTIPLY\n",
            "              8 BINARY_ADD\n",
            "             10 RETURN_VALUE\n"
          ],
          "name": "stdout"
        }
      ]
    },
    {
      "cell_type": "code",
      "metadata": {
        "id": "GE0V4hiBrgrn",
        "colab_type": "code",
        "colab": {
          "base_uri": "https://localhost:8080/",
          "height": 123
        },
        "outputId": "dba69c51-b5b0-4f4b-e753-7be9be69f86a"
      },
      "source": [
        "#mycode\n",
        "source_code2 = 'a * b * c'\n",
        "bytecode2 = compile(source_code2, '', 'eval')\n",
        "import dis; dis.dis(bytecode2)"
      ],
      "execution_count": 68,
      "outputs": [
        {
          "output_type": "stream",
          "text": [
            "  1           0 LOAD_NAME                0 (a)\n",
            "              2 LOAD_NAME                1 (b)\n",
            "              4 BINARY_MULTIPLY\n",
            "              6 LOAD_NAME                2 (c)\n",
            "              8 BINARY_MULTIPLY\n",
            "             10 RETURN_VALUE\n"
          ],
          "name": "stdout"
        }
      ]
    },
    {
      "cell_type": "markdown",
      "metadata": {
        "id": "xCrAtEQrsBjo",
        "colab_type": "text"
      },
      "source": [
        "# Why is the Python Version so Slow?"
      ]
    },
    {
      "cell_type": "code",
      "metadata": {
        "id": "5_Ug7mgIrgm9",
        "colab_type": "code",
        "colab": {
          "base_uri": "https://localhost:8080/",
          "height": 34
        },
        "outputId": "c9dc2e1b-6b4e-4fe4-b1b4-fe2adce07510"
      },
      "source": [
        "import numpy as np\n",
        "data = np.array([1, 2, 3, 4])\n",
        "data"
      ],
      "execution_count": 69,
      "outputs": [
        {
          "output_type": "execute_result",
          "data": {
            "text/plain": [
              "array([1, 2, 3, 4])"
            ]
          },
          "metadata": {
            "tags": []
          },
          "execution_count": 69
        }
      ]
    },
    {
      "cell_type": "code",
      "metadata": {
        "id": "uXGLHRrkrgkt",
        "colab_type": "code",
        "colab": {
          "base_uri": "https://localhost:8080/",
          "height": 34
        },
        "outputId": "bbdd3367-b1b6-4641-a682-cb80aae19e10"
      },
      "source": [
        "#mycode\n",
        "data2 = np.array([1,2,3,5])\n",
        "data2"
      ],
      "execution_count": 72,
      "outputs": [
        {
          "output_type": "execute_result",
          "data": {
            "text/plain": [
              "array([1, 2, 3, 5])"
            ]
          },
          "metadata": {
            "tags": []
          },
          "execution_count": 72
        }
      ]
    },
    {
      "cell_type": "code",
      "metadata": {
        "id": "gaXA1tMdrgib",
        "colab_type": "code",
        "colab": {
          "base_uri": "https://localhost:8080/",
          "height": 34
        },
        "outputId": "a6b55fbe-3556-498a-e8ce-0a63ab8a49d6"
      },
      "source": [
        "data2 * data2"
      ],
      "execution_count": 73,
      "outputs": [
        {
          "output_type": "execute_result",
          "data": {
            "text/plain": [
              "array([ 1,  4,  9, 25])"
            ]
          },
          "metadata": {
            "tags": []
          },
          "execution_count": 73
        }
      ]
    },
    {
      "cell_type": "code",
      "metadata": {
        "id": "fo3NWB98rgg1",
        "colab_type": "code",
        "colab": {
          "base_uri": "https://localhost:8080/",
          "height": 70
        },
        "outputId": "1a5aba49-ab9f-44a0-d93a-4aa907e216a4"
      },
      "source": [
        "%%time\n",
        "# Naive dot product\n",
        "(array_data * array_data).sum()"
      ],
      "execution_count": 74,
      "outputs": [
        {
          "output_type": "stream",
          "text": [
            "CPU times: user 2.44 ms, sys: 29 µs, total: 2.47 ms\n",
            "Wall time: 1.37 ms\n"
          ],
          "name": "stdout"
        },
        {
          "output_type": "execute_result",
          "data": {
            "text/plain": [
              "333328333350000.0"
            ]
          },
          "metadata": {
            "tags": []
          },
          "execution_count": 74
        }
      ]
    },
    {
      "cell_type": "code",
      "metadata": {
        "id": "XKtmvjU4rgei",
        "colab_type": "code",
        "colab": {
          "base_uri": "https://localhost:8080/",
          "height": 70
        },
        "outputId": "df177da2-87b3-41e5-b3df-55c3314d02d6"
      },
      "source": [
        "#mycode\n",
        "%%time\n",
        "(array_data2 * array_data2).sum()"
      ],
      "execution_count": 75,
      "outputs": [
        {
          "output_type": "stream",
          "text": [
            "CPU times: user 3.11 ms, sys: 4.12 ms, total: 7.24 ms\n",
            "Wall time: 9.7 ms\n"
          ],
          "name": "stdout"
        },
        {
          "output_type": "execute_result",
          "data": {
            "text/plain": [
              "3.333328333335e+17"
            ]
          },
          "metadata": {
            "tags": []
          },
          "execution_count": 75
        }
      ]
    },
    {
      "cell_type": "code",
      "metadata": {
        "id": "uS1hH8U-rgc-",
        "colab_type": "code",
        "colab": {
          "base_uri": "https://localhost:8080/",
          "height": 70
        },
        "outputId": "a5f0cd91-087c-4dab-b481-ab7aa1464e5f"
      },
      "source": [
        "%%time\n",
        "# Built-in dot product.\n",
        "array_data.dot(array_data)"
      ],
      "execution_count": 76,
      "outputs": [
        {
          "output_type": "stream",
          "text": [
            "CPU times: user 2.06 ms, sys: 3.01 ms, total: 5.06 ms\n",
            "Wall time: 4.34 ms\n"
          ],
          "name": "stdout"
        },
        {
          "output_type": "execute_result",
          "data": {
            "text/plain": [
              "333328333350000.0"
            ]
          },
          "metadata": {
            "tags": []
          },
          "execution_count": 76
        }
      ]
    },
    {
      "cell_type": "code",
      "metadata": {
        "id": "A2ubl047rgUQ",
        "colab_type": "code",
        "colab": {
          "base_uri": "https://localhost:8080/",
          "height": 70
        },
        "outputId": "cec42c55-4d2b-40c9-ce55-d6b425cc48e6"
      },
      "source": [
        "#mycode\n",
        "%%time\n",
        "array_data.dot(array_data)"
      ],
      "execution_count": 77,
      "outputs": [
        {
          "output_type": "stream",
          "text": [
            "CPU times: user 496 µs, sys: 0 ns, total: 496 µs\n",
            "Wall time: 275 µs\n"
          ],
          "name": "stdout"
        },
        {
          "output_type": "execute_result",
          "data": {
            "text/plain": [
              "333328333350000.0"
            ]
          },
          "metadata": {
            "tags": []
          },
          "execution_count": 77
        }
      ]
    },
    {
      "cell_type": "code",
      "metadata": {
        "id": "6BycLonYrgSC",
        "colab_type": "code",
        "colab": {
          "base_uri": "https://localhost:8080/",
          "height": 70
        },
        "outputId": "69b74061-50dc-430e-cb83-4b3d807475ea"
      },
      "source": [
        "%%time\n",
        "fortran_dot_product(array_data, array_data)"
      ],
      "execution_count": 78,
      "outputs": [
        {
          "output_type": "stream",
          "text": [
            "CPU times: user 229 µs, sys: 20 µs, total: 249 µs\n",
            "Wall time: 256 µs\n"
          ],
          "name": "stdout"
        },
        {
          "output_type": "execute_result",
          "data": {
            "text/plain": [
              "333328333350000.0"
            ]
          },
          "metadata": {
            "tags": []
          },
          "execution_count": 78
        }
      ]
    },
    {
      "cell_type": "code",
      "metadata": {
        "id": "qfhZseDfrgPR",
        "colab_type": "code",
        "colab": {
          "base_uri": "https://localhost:8080/",
          "height": 70
        },
        "outputId": "3c05900f-e9b0-464d-8e1f-43037a05e4b4"
      },
      "source": [
        "#mycode\n",
        "%%time\n",
        "fortran_dot_product(array_data2, array_data2)"
      ],
      "execution_count": 79,
      "outputs": [
        {
          "output_type": "stream",
          "text": [
            "CPU times: user 1.67 ms, sys: 53 µs, total: 1.72 ms\n",
            "Wall time: 1.73 ms\n"
          ],
          "name": "stdout"
        },
        {
          "output_type": "execute_result",
          "data": {
            "text/plain": [
              "3.3333283333312755e+17"
            ]
          },
          "metadata": {
            "tags": []
          },
          "execution_count": 79
        }
      ]
    },
    {
      "cell_type": "code",
      "metadata": {
        "id": "vnLZReahrgN3",
        "colab_type": "code",
        "colab": {}
      },
      "source": [
        "# Numpy won't allow us to write a string into an int array.\n",
        "#data[0] = \"foo\""
      ],
      "execution_count": 80,
      "outputs": []
    },
    {
      "cell_type": "code",
      "metadata": {
        "id": "yrQjDBW7rgMb",
        "colab_type": "code",
        "colab": {}
      },
      "source": [
        "# We also can't grow an array once it's created.\n",
        "#data.append(3)"
      ],
      "execution_count": 81,
      "outputs": []
    },
    {
      "cell_type": "code",
      "metadata": {
        "id": "cnzsMjDZrZUB",
        "colab_type": "code",
        "colab": {
          "base_uri": "https://localhost:8080/",
          "height": 52
        },
        "outputId": "3255a366-9282-4972-ca06-1f65a0fca579"
      },
      "source": [
        "# We **can** reshape an array though.\n",
        "two_by_two = data.reshape(2, 2)\n",
        "two_by_two"
      ],
      "execution_count": 82,
      "outputs": [
        {
          "output_type": "execute_result",
          "data": {
            "text/plain": [
              "array([[1, 2],\n",
              "       [3, 4]])"
            ]
          },
          "metadata": {
            "tags": []
          },
          "execution_count": 82
        }
      ]
    },
    {
      "cell_type": "code",
      "metadata": {
        "id": "N3QeARpdppOC",
        "colab_type": "code",
        "colab": {
          "base_uri": "https://localhost:8080/",
          "height": 52
        },
        "outputId": "5b86433c-360d-453b-f0aa-93a8b593f412"
      },
      "source": [
        "#mycode\n",
        "four_by_four = data2.reshape(2,2)\n",
        "four_by_four"
      ],
      "execution_count": 84,
      "outputs": [
        {
          "output_type": "execute_result",
          "data": {
            "text/plain": [
              "array([[1, 2],\n",
              "       [3, 5]])"
            ]
          },
          "metadata": {
            "tags": []
          },
          "execution_count": 84
        }
      ]
    },
    {
      "cell_type": "markdown",
      "metadata": {
        "id": "VgawOfDXsutZ",
        "colab_type": "text"
      },
      "source": [
        "# What's in an Array?"
      ]
    },
    {
      "cell_type": "code",
      "metadata": {
        "id": "m7KYO0BwppHr",
        "colab_type": "code",
        "colab": {
          "base_uri": "https://localhost:8080/",
          "height": 158
        },
        "outputId": "4cbc8248-c561-496e-b057-477a521366d3"
      },
      "source": [
        "arr = np.array([1, 2, 3, 4, 5, 6], dtype='int16').reshape(2, 3)\n",
        "print(\"Array:\\n\", arr, sep='')\n",
        "print(\"===========\")\n",
        "print(\"DType:\", arr.dtype)\n",
        "print(\"Shape:\", arr.shape)\n",
        "print(\"Strides:\", arr.strides)\n",
        "print(\"Data:\", arr.data.tobytes())"
      ],
      "execution_count": 85,
      "outputs": [
        {
          "output_type": "stream",
          "text": [
            "Array:\n",
            "[[1 2 3]\n",
            " [4 5 6]]\n",
            "===========\n",
            "DType: int16\n",
            "Shape: (2, 3)\n",
            "Strides: (6, 2)\n",
            "Data: b'\\x01\\x00\\x02\\x00\\x03\\x00\\x04\\x00\\x05\\x00\\x06\\x00'\n"
          ],
          "name": "stdout"
        }
      ]
    },
    {
      "cell_type": "code",
      "metadata": {
        "id": "KVlWFfCSppGh",
        "colab_type": "code",
        "colab": {
          "base_uri": "https://localhost:8080/",
          "height": 158
        },
        "outputId": "ee5c336b-7e5c-4744-f08c-5471558910ce"
      },
      "source": [
        "#mycode\n",
        "arr2 = np.array([1,2,3,5,7,11], dtype='int16').reshape(2, 3)\n",
        "print(\"Array:\\n\", arr2, sep='')\n",
        "print(\"===========\")\n",
        "print(\"DType:\", arr2.dtype)\n",
        "print(\"Shape:\", arr2.shape)\n",
        "print(\"Strides:\", arr2.strides)\n",
        "print(\"Data:\", arr2.data.tobytes())"
      ],
      "execution_count": 87,
      "outputs": [
        {
          "output_type": "stream",
          "text": [
            "Array:\n",
            "[[ 1  2  3]\n",
            " [ 5  7 11]]\n",
            "===========\n",
            "DType: int16\n",
            "Shape: (2, 3)\n",
            "Strides: (6, 2)\n",
            "Data: b'\\x01\\x00\\x02\\x00\\x03\\x00\\x05\\x00\\x07\\x00\\x0b\\x00'\n"
          ],
          "name": "stdout"
        }
      ]
    },
    {
      "cell_type": "markdown",
      "metadata": {
        "id": "VWe-Gs0jtDcD",
        "colab_type": "text"
      },
      "source": [
        "\n",
        "# Core Operations"
      ]
    },
    {
      "cell_type": "markdown",
      "metadata": {
        "id": "fcnOTSgetGWY",
        "colab_type": "text"
      },
      "source": [
        "# UFuncs"
      ]
    },
    {
      "cell_type": "code",
      "metadata": {
        "id": "daHR4UyFppAL",
        "colab_type": "code",
        "colab": {
          "base_uri": "https://localhost:8080/",
          "height": 70
        },
        "outputId": "29b406db-e87e-4390-b771-509efa4761ea"
      },
      "source": [
        "data = np.arange(15).reshape(3, 5)\n",
        "data"
      ],
      "execution_count": 88,
      "outputs": [
        {
          "output_type": "execute_result",
          "data": {
            "text/plain": [
              "array([[ 0,  1,  2,  3,  4],\n",
              "       [ 5,  6,  7,  8,  9],\n",
              "       [10, 11, 12, 13, 14]])"
            ]
          },
          "metadata": {
            "tags": []
          },
          "execution_count": 88
        }
      ]
    },
    {
      "cell_type": "code",
      "metadata": {
        "id": "PU0Jd2HDtKzc",
        "colab_type": "code",
        "colab": {
          "base_uri": "https://localhost:8080/",
          "height": 87
        },
        "outputId": "472c4e73-28b5-4310-a1de-aa93051bd3ca"
      },
      "source": [
        "#mycode\n",
        "data2 =np.arange(12).reshape(4, 3)\n",
        "data2"
      ],
      "execution_count": 89,
      "outputs": [
        {
          "output_type": "execute_result",
          "data": {
            "text/plain": [
              "array([[ 0,  1,  2],\n",
              "       [ 3,  4,  5],\n",
              "       [ 6,  7,  8],\n",
              "       [ 9, 10, 11]])"
            ]
          },
          "metadata": {
            "tags": []
          },
          "execution_count": 89
        }
      ]
    },
    {
      "cell_type": "code",
      "metadata": {
        "id": "Ehl5xy1ttK_I",
        "colab_type": "code",
        "colab": {
          "base_uri": "https://localhost:8080/",
          "height": 70
        },
        "outputId": "c213b711-b30e-4b24-d94b-71feeb0fbf73"
      },
      "source": [
        "# Binary operators.\n",
        "data * data"
      ],
      "execution_count": 90,
      "outputs": [
        {
          "output_type": "execute_result",
          "data": {
            "text/plain": [
              "array([[  0,   1,   4,   9,  16],\n",
              "       [ 25,  36,  49,  64,  81],\n",
              "       [100, 121, 144, 169, 196]])"
            ]
          },
          "metadata": {
            "tags": []
          },
          "execution_count": 90
        }
      ]
    },
    {
      "cell_type": "code",
      "metadata": {
        "id": "hA99t9cvtLR7",
        "colab_type": "code",
        "colab": {
          "base_uri": "https://localhost:8080/",
          "height": 87
        },
        "outputId": "20ad674c-ab4c-45ad-c628-9c6fc436d6b2"
      },
      "source": [
        "#mycode\n",
        "data2*data2"
      ],
      "execution_count": 91,
      "outputs": [
        {
          "output_type": "execute_result",
          "data": {
            "text/plain": [
              "array([[  0,   1,   4],\n",
              "       [  9,  16,  25],\n",
              "       [ 36,  49,  64],\n",
              "       [ 81, 100, 121]])"
            ]
          },
          "metadata": {
            "tags": []
          },
          "execution_count": 91
        }
      ]
    },
    {
      "cell_type": "code",
      "metadata": {
        "id": "3klt-7EYtLZU",
        "colab_type": "code",
        "colab": {
          "base_uri": "https://localhost:8080/",
          "height": 70
        },
        "outputId": "b264cca7-9e87-4196-e642-531131ad38bc"
      },
      "source": [
        "# Unary functions.\n",
        "np.sqrt(data)"
      ],
      "execution_count": 92,
      "outputs": [
        {
          "output_type": "execute_result",
          "data": {
            "text/plain": [
              "array([[0.        , 1.        , 1.41421356, 1.73205081, 2.        ],\n",
              "       [2.23606798, 2.44948974, 2.64575131, 2.82842712, 3.        ],\n",
              "       [3.16227766, 3.31662479, 3.46410162, 3.60555128, 3.74165739]])"
            ]
          },
          "metadata": {
            "tags": []
          },
          "execution_count": 92
        }
      ]
    },
    {
      "cell_type": "code",
      "metadata": {
        "id": "-VZDE8KRtLPR",
        "colab_type": "code",
        "colab": {
          "base_uri": "https://localhost:8080/",
          "height": 87
        },
        "outputId": "dd854c62-2c54-4626-ac03-e4e14837c4a9"
      },
      "source": [
        "#mycode\n",
        "np.sqrt(data2)"
      ],
      "execution_count": 93,
      "outputs": [
        {
          "output_type": "execute_result",
          "data": {
            "text/plain": [
              "array([[0.        , 1.        , 1.41421356],\n",
              "       [1.73205081, 2.        , 2.23606798],\n",
              "       [2.44948974, 2.64575131, 2.82842712],\n",
              "       [3.        , 3.16227766, 3.31662479]])"
            ]
          },
          "metadata": {
            "tags": []
          },
          "execution_count": 93
        }
      ]
    },
    {
      "cell_type": "code",
      "metadata": {
        "id": "FBkfeATItLMe",
        "colab_type": "code",
        "colab": {
          "base_uri": "https://localhost:8080/",
          "height": 70
        },
        "outputId": "f0a1f0b4-2770-4cb2-a0a5-02342eabc770"
      },
      "source": [
        "# Comparison operations\n",
        "(data % 3) == 0"
      ],
      "execution_count": 94,
      "outputs": [
        {
          "output_type": "execute_result",
          "data": {
            "text/plain": [
              "array([[ True, False, False,  True, False],\n",
              "       [False,  True, False, False,  True],\n",
              "       [False, False,  True, False, False]])"
            ]
          },
          "metadata": {
            "tags": []
          },
          "execution_count": 94
        }
      ]
    },
    {
      "cell_type": "code",
      "metadata": {
        "id": "uxdjghDKtLKr",
        "colab_type": "code",
        "colab": {
          "base_uri": "https://localhost:8080/",
          "height": 87
        },
        "outputId": "3690fa0c-10a4-4f37-8165-932583185ba2"
      },
      "source": [
        "#mycode \n",
        "(data2%5)==0"
      ],
      "execution_count": 95,
      "outputs": [
        {
          "output_type": "execute_result",
          "data": {
            "text/plain": [
              "array([[ True, False, False],\n",
              "       [False, False,  True],\n",
              "       [False, False, False],\n",
              "       [False,  True, False]])"
            ]
          },
          "metadata": {
            "tags": []
          },
          "execution_count": 95
        }
      ]
    },
    {
      "cell_type": "code",
      "metadata": {
        "id": "VcQKwF2_tLI4",
        "colab_type": "code",
        "colab": {
          "base_uri": "https://localhost:8080/",
          "height": 70
        },
        "outputId": "7d934beb-ea40-4b66-d694-e45b86e941a7"
      },
      "source": [
        "# Boolean combinators.\n",
        "((data % 2) == 0) & ((data % 3) == 0)"
      ],
      "execution_count": 96,
      "outputs": [
        {
          "output_type": "execute_result",
          "data": {
            "text/plain": [
              "array([[ True, False, False, False, False],\n",
              "       [False,  True, False, False, False],\n",
              "       [False, False,  True, False, False]])"
            ]
          },
          "metadata": {
            "tags": []
          },
          "execution_count": 96
        }
      ]
    },
    {
      "cell_type": "code",
      "metadata": {
        "id": "bFaN51YUtLFm",
        "colab_type": "code",
        "colab": {
          "base_uri": "https://localhost:8080/",
          "height": 87
        },
        "outputId": "21a9945c-b052-4752-ff25-ef8d4ee8c153"
      },
      "source": [
        "#mycode\n",
        "((data2 % 2) == 0) | ((data2 % 3) == 0)"
      ],
      "execution_count": 97,
      "outputs": [
        {
          "output_type": "execute_result",
          "data": {
            "text/plain": [
              "array([[ True, False,  True],\n",
              "       [ True,  True, False],\n",
              "       [ True, False,  True],\n",
              "       [ True,  True, False]])"
            ]
          },
          "metadata": {
            "tags": []
          },
          "execution_count": 97
        }
      ]
    },
    {
      "cell_type": "code",
      "metadata": {
        "id": "LzzP7ImSoTaF",
        "colab_type": "code",
        "colab": {
          "base_uri": "https://localhost:8080/",
          "height": 70
        },
        "outputId": "5e0ff5d7-e777-4f82-f071-401c369c87f7"
      },
      "source": [
        "# as of python 3.5, @ is matrix-multiply\n",
        "data @ data.T"
      ],
      "execution_count": 98,
      "outputs": [
        {
          "output_type": "execute_result",
          "data": {
            "text/plain": [
              "array([[ 30,  80, 130],\n",
              "       [ 80, 255, 430],\n",
              "       [130, 430, 730]])"
            ]
          },
          "metadata": {
            "tags": []
          },
          "execution_count": 98
        }
      ]
    },
    {
      "cell_type": "code",
      "metadata": {
        "id": "_6LRXHUIoTVf",
        "colab_type": "code",
        "colab": {
          "base_uri": "https://localhost:8080/",
          "height": 87
        },
        "outputId": "147ba088-0041-4560-ae35-788f5bbd661d"
      },
      "source": [
        "data2 @ data2.T"
      ],
      "execution_count": 99,
      "outputs": [
        {
          "output_type": "execute_result",
          "data": {
            "text/plain": [
              "array([[  5,  14,  23,  32],\n",
              "       [ 14,  50,  86, 122],\n",
              "       [ 23,  86, 149, 212],\n",
              "       [ 32, 122, 212, 302]])"
            ]
          },
          "metadata": {
            "tags": []
          },
          "execution_count": 99
        }
      ]
    },
    {
      "cell_type": "markdown",
      "metadata": {
        "id": "b9CLRbRrts54",
        "colab_type": "text"
      },
      "source": [
        "# UFuncs Review"
      ]
    },
    {
      "cell_type": "code",
      "metadata": {
        "id": "PN3ssvxdoTPQ",
        "colab_type": "code",
        "colab": {
          "base_uri": "https://localhost:8080/",
          "height": 52
        },
        "outputId": "17406475-4484-46a4-e5d7-e56dd7ccc3fe"
      },
      "source": [
        "sines = np.sin(np.linspace(0, 3.14, 10))\n",
        "cosines = np.cos(np.linspace(0, 3.14, 10))\n",
        "sines"
      ],
      "execution_count": 100,
      "outputs": [
        {
          "output_type": "execute_result",
          "data": {
            "text/plain": [
              "array([0.        , 0.34185385, 0.64251645, 0.86575984, 0.98468459,\n",
              "       0.98496101, 0.8665558 , 0.64373604, 0.34335012, 0.00159265])"
            ]
          },
          "metadata": {
            "tags": []
          },
          "execution_count": 100
        }
      ]
    },
    {
      "cell_type": "code",
      "metadata": {
        "id": "x3F6D1kcmPUu",
        "colab_type": "code",
        "colab": {
          "base_uri": "https://localhost:8080/",
          "height": 461
        },
        "outputId": "1c3e8007-14d7-4c42-f6bf-6858975c6011"
      },
      "source": [
        "#mycode\n",
        "tangs = np.tan(np.linspace(4, 34.1, 100))\n",
        "tanhs = np.tanh(np.linspace(4, 34.1, 100))\n",
        "tangs"
      ],
      "execution_count": 102,
      "outputs": [
        {
          "output_type": "execute_result",
          "data": {
            "text/plain": [
              "array([ 1.15782128e+00,  2.31123440e+00,  9.55218190e+00, -4.93994803e+00,\n",
              "       -1.81418666e+00, -9.56145887e-01, -4.94132851e-01, -1.56153437e-01,\n",
              "        1.50253566e-01,  4.86981074e-01,  9.45171658e-01,  1.78970515e+00,\n",
              "        4.79756362e+00, -1.01149214e+01, -2.34828613e+00, -1.17140432e+00,\n",
              "       -6.27132733e-01, -2.61840337e-01,  4.79860931e-02,  3.67284974e-01,\n",
              "        7.69763325e-01,  1.42857192e+00,  3.15779512e+00,  3.78071719e+02,\n",
              "       -3.21682171e+00, -1.44478045e+00, -7.78222346e-01, -3.73300317e-01,\n",
              "       -5.32896592e-02,  2.56195430e-01,  6.19786518e-01,  1.15893264e+00,\n",
              "        2.31424730e+00,  9.59615705e+00, -4.92792082e+00, -1.81215193e+00,\n",
              "       -9.55237880e-01, -4.93542552e-01, -1.55667337e-01,  1.50738879e-01,\n",
              "        4.87568317e-01,  9.46070577e-01,  1.79170146e+00,  4.80898706e+00,\n",
              "       -1.00661276e+01, -2.34519805e+00, -1.17027919e+00, -6.26471721e-01,\n",
              "       -2.61333299e-01,  4.84617612e-02,  3.67823650e-01,  7.70519362e-01,\n",
              "        1.43001596e+00,  3.16300970e+00,  4.60737439e+02, -3.21144459e+00,\n",
              "       -1.44331629e+00, -7.77460652e-01, -3.72759716e-01, -5.28137591e-02,\n",
              "        2.56701205e-01,  6.20443572e-01,  1.16004521e+00,  2.31726683e+00,\n",
              "        9.64053457e+00, -4.91594974e+00, -1.81012069e+00, -9.54330697e-01,\n",
              "       -4.92952529e-01, -1.55181308e-01,  1.51224262e-01,  4.88155833e-01,\n",
              "        9.46970305e-01,  1.79370117e+00,  4.82046276e+00, -1.00177977e+01,\n",
              "       -2.34211683e+00, -1.16915530e+00, -6.25811102e-01, -2.60826387e-01,\n",
              "        4.89374512e-02,  3.68362515e-01,  7.71275953e-01,  1.43146197e+00,\n",
              "        3.16823996e+00,  5.89668781e+02, -3.20608383e+00, -1.44185413e+00,\n",
              "       -7.76699520e-01, -3.72219307e-01, -5.23378828e-02,  2.57207103e-01,\n",
              "        6.21101014e-01,  1.16115901e+00,  2.32029300e+00,  9.68532001e+00,\n",
              "       -4.90403438e+00, -1.80809294e+00, -9.53424335e-01, -4.92362782e-01])"
            ]
          },
          "metadata": {
            "tags": []
          },
          "execution_count": 102
        }
      ]
    },
    {
      "cell_type": "code",
      "metadata": {
        "id": "2jMcpJP9t1fo",
        "colab_type": "code",
        "colab": {
          "base_uri": "https://localhost:8080/",
          "height": 34
        },
        "outputId": "bf6f8b49-7a92-40a4-f32b-77a2fd792e5a"
      },
      "source": [
        "#mycode\n",
        "tangs[0]"
      ],
      "execution_count": 103,
      "outputs": [
        {
          "output_type": "execute_result",
          "data": {
            "text/plain": [
              "1.1578212823495775"
            ]
          },
          "metadata": {
            "tags": []
          },
          "execution_count": 103
        }
      ]
    },
    {
      "cell_type": "code",
      "metadata": {
        "id": "OKW6-GTct1yA",
        "colab_type": "code",
        "colab": {
          "base_uri": "https://localhost:8080/",
          "height": 34
        },
        "outputId": "9a370ba2-8cac-4aad-aa40-08ce392620af"
      },
      "source": [
        "sines[:3]  # First three elements"
      ],
      "execution_count": 104,
      "outputs": [
        {
          "output_type": "execute_result",
          "data": {
            "text/plain": [
              "array([0.        , 0.34185385, 0.64251645])"
            ]
          },
          "metadata": {
            "tags": []
          },
          "execution_count": 104
        }
      ]
    },
    {
      "cell_type": "code",
      "metadata": {
        "id": "aq60FMHtt2BF",
        "colab_type": "code",
        "colab": {
          "base_uri": "https://localhost:8080/",
          "height": 34
        },
        "outputId": "4a6ff0f8-7e52-4059-fff3-4690af14bbe4"
      },
      "source": [
        "#mycode\n",
        "tangs[:4]"
      ],
      "execution_count": 105,
      "outputs": [
        {
          "output_type": "execute_result",
          "data": {
            "text/plain": [
              "array([ 1.15782128,  2.3112344 ,  9.5521819 , -4.93994803])"
            ]
          },
          "metadata": {
            "tags": []
          },
          "execution_count": 105
        }
      ]
    },
    {
      "cell_type": "code",
      "metadata": {
        "id": "-Qy4KePZt-rp",
        "colab_type": "code",
        "colab": {
          "base_uri": "https://localhost:8080/",
          "height": 34
        },
        "outputId": "f16cfb68-1554-462b-c716-6f41a6d6017d"
      },
      "source": [
        "sines[5:]  # Elements from 5 on."
      ],
      "execution_count": 106,
      "outputs": [
        {
          "output_type": "execute_result",
          "data": {
            "text/plain": [
              "array([0.98496101, 0.8665558 , 0.64373604, 0.34335012, 0.00159265])"
            ]
          },
          "metadata": {
            "tags": []
          },
          "execution_count": 106
        }
      ]
    },
    {
      "cell_type": "code",
      "metadata": {
        "id": "Ef1N167zt2PP",
        "colab_type": "code",
        "colab": {
          "base_uri": "https://localhost:8080/",
          "height": 247
        },
        "outputId": "94af7d02-6fd7-42ed-86be-1977fa9def84"
      },
      "source": [
        "#mycode\n",
        "tangs[50:]"
      ],
      "execution_count": 109,
      "outputs": [
        {
          "output_type": "execute_result",
          "data": {
            "text/plain": [
              "array([ 3.67823650e-01,  7.70519362e-01,  1.43001596e+00,  3.16300970e+00,\n",
              "        4.60737439e+02, -3.21144459e+00, -1.44331629e+00, -7.77460652e-01,\n",
              "       -3.72759716e-01, -5.28137591e-02,  2.56701205e-01,  6.20443572e-01,\n",
              "        1.16004521e+00,  2.31726683e+00,  9.64053457e+00, -4.91594974e+00,\n",
              "       -1.81012069e+00, -9.54330697e-01, -4.92952529e-01, -1.55181308e-01,\n",
              "        1.51224262e-01,  4.88155833e-01,  9.46970305e-01,  1.79370117e+00,\n",
              "        4.82046276e+00, -1.00177977e+01, -2.34211683e+00, -1.16915530e+00,\n",
              "       -6.25811102e-01, -2.60826387e-01,  4.89374512e-02,  3.68362515e-01,\n",
              "        7.71275953e-01,  1.43146197e+00,  3.16823996e+00,  5.89668781e+02,\n",
              "       -3.20608383e+00, -1.44185413e+00, -7.76699520e-01, -3.72219307e-01,\n",
              "       -5.23378828e-02,  2.57207103e-01,  6.21101014e-01,  1.16115901e+00,\n",
              "        2.32029300e+00,  9.68532001e+00, -4.90403438e+00, -1.80809294e+00,\n",
              "       -9.53424335e-01, -4.92362782e-01])"
            ]
          },
          "metadata": {
            "tags": []
          },
          "execution_count": 109
        }
      ]
    },
    {
      "cell_type": "code",
      "metadata": {
        "id": "K4fuPKBEt2fL",
        "colab_type": "code",
        "colab": {
          "base_uri": "https://localhost:8080/",
          "height": 34
        },
        "outputId": "9af52451-8b8f-4280-de1a-0c614a81fef6"
      },
      "source": [
        "sines[::2]  # Every other element."
      ],
      "execution_count": 110,
      "outputs": [
        {
          "output_type": "execute_result",
          "data": {
            "text/plain": [
              "array([0.        , 0.64251645, 0.98468459, 0.8665558 , 0.34335012])"
            ]
          },
          "metadata": {
            "tags": []
          },
          "execution_count": 110
        }
      ]
    },
    {
      "cell_type": "code",
      "metadata": {
        "id": "LxN-bRXMt20h",
        "colab_type": "code",
        "colab": {
          "base_uri": "https://localhost:8080/",
          "height": 34
        },
        "outputId": "e9307f35-d9c1-4229-8f20-b2c6f7747f48"
      },
      "source": [
        "tangs[::50]"
      ],
      "execution_count": 111,
      "outputs": [
        {
          "output_type": "execute_result",
          "data": {
            "text/plain": [
              "array([1.15782128, 0.36782365])"
            ]
          },
          "metadata": {
            "tags": []
          },
          "execution_count": 111
        }
      ]
    },
    {
      "cell_type": "code",
      "metadata": {
        "id": "_Wix4ayxt4fD",
        "colab_type": "code",
        "colab": {
          "base_uri": "https://localhost:8080/",
          "height": 141
        },
        "outputId": "0ee66c6b-202f-45a8-edcd-3301eb84cbfb"
      },
      "source": [
        "# More interesting: we can index with boolean arrays to filter by a predicate.\n",
        "print(\"sines:\\n\", sines)\n",
        "print(\"sines > 0.5:\\n\", sines > 0.5)\n",
        "print(\"sines[sines > 0.5]:\\n\", sines[sines > 0.5])"
      ],
      "execution_count": 112,
      "outputs": [
        {
          "output_type": "stream",
          "text": [
            "sines:\n",
            " [0.         0.34185385 0.64251645 0.86575984 0.98468459 0.98496101\n",
            " 0.8665558  0.64373604 0.34335012 0.00159265]\n",
            "sines > 0.5:\n",
            " [False False  True  True  True  True  True  True False False]\n",
            "sines[sines > 0.5]:\n",
            " [0.64251645 0.86575984 0.98468459 0.98496101 0.8665558  0.64373604]\n"
          ],
          "name": "stdout"
        }
      ]
    },
    {
      "cell_type": "code",
      "metadata": {
        "id": "zolSksbot4ws",
        "colab_type": "code",
        "colab": {
          "base_uri": "https://localhost:8080/",
          "height": 887
        },
        "outputId": "5a676896-6b59-4b0c-f0b5-1ea700fe082b"
      },
      "source": [
        "#mycode\n",
        "print(\"tan:\\n\", tangs)\n",
        "print(\"tan > 0.25:\\n\", tangs > 0.25)\n",
        "print(\"tan[tan > 0.25]:\\n\", tangs[tangs > 0.25])"
      ],
      "execution_count": 113,
      "outputs": [
        {
          "output_type": "stream",
          "text": [
            "tan:\n",
            " [ 1.15782128e+00  2.31123440e+00  9.55218190e+00 -4.93994803e+00\n",
            " -1.81418666e+00 -9.56145887e-01 -4.94132851e-01 -1.56153437e-01\n",
            "  1.50253566e-01  4.86981074e-01  9.45171658e-01  1.78970515e+00\n",
            "  4.79756362e+00 -1.01149214e+01 -2.34828613e+00 -1.17140432e+00\n",
            " -6.27132733e-01 -2.61840337e-01  4.79860931e-02  3.67284974e-01\n",
            "  7.69763325e-01  1.42857192e+00  3.15779512e+00  3.78071719e+02\n",
            " -3.21682171e+00 -1.44478045e+00 -7.78222346e-01 -3.73300317e-01\n",
            " -5.32896592e-02  2.56195430e-01  6.19786518e-01  1.15893264e+00\n",
            "  2.31424730e+00  9.59615705e+00 -4.92792082e+00 -1.81215193e+00\n",
            " -9.55237880e-01 -4.93542552e-01 -1.55667337e-01  1.50738879e-01\n",
            "  4.87568317e-01  9.46070577e-01  1.79170146e+00  4.80898706e+00\n",
            " -1.00661276e+01 -2.34519805e+00 -1.17027919e+00 -6.26471721e-01\n",
            " -2.61333299e-01  4.84617612e-02  3.67823650e-01  7.70519362e-01\n",
            "  1.43001596e+00  3.16300970e+00  4.60737439e+02 -3.21144459e+00\n",
            " -1.44331629e+00 -7.77460652e-01 -3.72759716e-01 -5.28137591e-02\n",
            "  2.56701205e-01  6.20443572e-01  1.16004521e+00  2.31726683e+00\n",
            "  9.64053457e+00 -4.91594974e+00 -1.81012069e+00 -9.54330697e-01\n",
            " -4.92952529e-01 -1.55181308e-01  1.51224262e-01  4.88155833e-01\n",
            "  9.46970305e-01  1.79370117e+00  4.82046276e+00 -1.00177977e+01\n",
            " -2.34211683e+00 -1.16915530e+00 -6.25811102e-01 -2.60826387e-01\n",
            "  4.89374512e-02  3.68362515e-01  7.71275953e-01  1.43146197e+00\n",
            "  3.16823996e+00  5.89668781e+02 -3.20608383e+00 -1.44185413e+00\n",
            " -7.76699520e-01 -3.72219307e-01 -5.23378828e-02  2.57207103e-01\n",
            "  6.21101014e-01  1.16115901e+00  2.32029300e+00  9.68532001e+00\n",
            " -4.90403438e+00 -1.80809294e+00 -9.53424335e-01 -4.92362782e-01]\n",
            "tan > 0.25:\n",
            " [ True  True  True False False False False False False  True  True  True\n",
            "  True False False False False False False  True  True  True  True  True\n",
            " False False False False False  True  True  True  True  True False False\n",
            " False False False False  True  True  True  True False False False False\n",
            " False False  True  True  True  True  True False False False False False\n",
            "  True  True  True  True  True False False False False False False  True\n",
            "  True  True  True False False False False False False  True  True  True\n",
            "  True  True False False False False False  True  True  True  True  True\n",
            " False False False False]\n",
            "tan[tan > 0.25]:\n",
            " [1.15782128e+00 2.31123440e+00 9.55218190e+00 4.86981074e-01\n",
            " 9.45171658e-01 1.78970515e+00 4.79756362e+00 3.67284974e-01\n",
            " 7.69763325e-01 1.42857192e+00 3.15779512e+00 3.78071719e+02\n",
            " 2.56195430e-01 6.19786518e-01 1.15893264e+00 2.31424730e+00\n",
            " 9.59615705e+00 4.87568317e-01 9.46070577e-01 1.79170146e+00\n",
            " 4.80898706e+00 3.67823650e-01 7.70519362e-01 1.43001596e+00\n",
            " 3.16300970e+00 4.60737439e+02 2.56701205e-01 6.20443572e-01\n",
            " 1.16004521e+00 2.31726683e+00 9.64053457e+00 4.88155833e-01\n",
            " 9.46970305e-01 1.79370117e+00 4.82046276e+00 3.68362515e-01\n",
            " 7.71275953e-01 1.43146197e+00 3.16823996e+00 5.89668781e+02\n",
            " 2.57207103e-01 6.21101014e-01 1.16115901e+00 2.32029300e+00\n",
            " 9.68532001e+00]\n"
          ],
          "name": "stdout"
        }
      ]
    },
    {
      "cell_type": "code",
      "metadata": {
        "id": "hzNftbArt45q",
        "colab_type": "code",
        "colab": {
          "base_uri": "https://localhost:8080/",
          "height": 70
        },
        "outputId": "021ece7a-71b4-4fbe-de26-94b6d909fc73"
      },
      "source": [
        "# We index with lists/arrays of integers to select values at those indices.\n",
        "print(sines)\n",
        "sines[[0, 4, 7]]"
      ],
      "execution_count": 114,
      "outputs": [
        {
          "output_type": "stream",
          "text": [
            "[0.         0.34185385 0.64251645 0.86575984 0.98468459 0.98496101\n",
            " 0.8665558  0.64373604 0.34335012 0.00159265]\n"
          ],
          "name": "stdout"
        },
        {
          "output_type": "execute_result",
          "data": {
            "text/plain": [
              "array([0.        , 0.98468459, 0.64373604])"
            ]
          },
          "metadata": {
            "tags": []
          },
          "execution_count": 114
        }
      ]
    },
    {
      "cell_type": "code",
      "metadata": {
        "id": "o_4qRQNzt5KX",
        "colab_type": "code",
        "colab": {
          "base_uri": "https://localhost:8080/",
          "height": 478
        },
        "outputId": "a8d4e263-1141-4343-b075-357cf5670aa8"
      },
      "source": [
        "#mycode\n",
        "print(tangs)\n",
        "tangs[[1, 3, 6]]"
      ],
      "execution_count": 115,
      "outputs": [
        {
          "output_type": "stream",
          "text": [
            "[ 1.15782128e+00  2.31123440e+00  9.55218190e+00 -4.93994803e+00\n",
            " -1.81418666e+00 -9.56145887e-01 -4.94132851e-01 -1.56153437e-01\n",
            "  1.50253566e-01  4.86981074e-01  9.45171658e-01  1.78970515e+00\n",
            "  4.79756362e+00 -1.01149214e+01 -2.34828613e+00 -1.17140432e+00\n",
            " -6.27132733e-01 -2.61840337e-01  4.79860931e-02  3.67284974e-01\n",
            "  7.69763325e-01  1.42857192e+00  3.15779512e+00  3.78071719e+02\n",
            " -3.21682171e+00 -1.44478045e+00 -7.78222346e-01 -3.73300317e-01\n",
            " -5.32896592e-02  2.56195430e-01  6.19786518e-01  1.15893264e+00\n",
            "  2.31424730e+00  9.59615705e+00 -4.92792082e+00 -1.81215193e+00\n",
            " -9.55237880e-01 -4.93542552e-01 -1.55667337e-01  1.50738879e-01\n",
            "  4.87568317e-01  9.46070577e-01  1.79170146e+00  4.80898706e+00\n",
            " -1.00661276e+01 -2.34519805e+00 -1.17027919e+00 -6.26471721e-01\n",
            " -2.61333299e-01  4.84617612e-02  3.67823650e-01  7.70519362e-01\n",
            "  1.43001596e+00  3.16300970e+00  4.60737439e+02 -3.21144459e+00\n",
            " -1.44331629e+00 -7.77460652e-01 -3.72759716e-01 -5.28137591e-02\n",
            "  2.56701205e-01  6.20443572e-01  1.16004521e+00  2.31726683e+00\n",
            "  9.64053457e+00 -4.91594974e+00 -1.81012069e+00 -9.54330697e-01\n",
            " -4.92952529e-01 -1.55181308e-01  1.51224262e-01  4.88155833e-01\n",
            "  9.46970305e-01  1.79370117e+00  4.82046276e+00 -1.00177977e+01\n",
            " -2.34211683e+00 -1.16915530e+00 -6.25811102e-01 -2.60826387e-01\n",
            "  4.89374512e-02  3.68362515e-01  7.71275953e-01  1.43146197e+00\n",
            "  3.16823996e+00  5.89668781e+02 -3.20608383e+00 -1.44185413e+00\n",
            " -7.76699520e-01 -3.72219307e-01 -5.23378828e-02  2.57207103e-01\n",
            "  6.21101014e-01  1.16115901e+00  2.32029300e+00  9.68532001e+00\n",
            " -4.90403438e+00 -1.80809294e+00 -9.53424335e-01 -4.92362782e-01]\n"
          ],
          "name": "stdout"
        },
        {
          "output_type": "execute_result",
          "data": {
            "text/plain": [
              "array([ 2.3112344 , -4.93994803, -0.49413285])"
            ]
          },
          "metadata": {
            "tags": []
          },
          "execution_count": 115
        }
      ]
    },
    {
      "cell_type": "code",
      "metadata": {
        "id": "5ibNtpcpt5bd",
        "colab_type": "code",
        "colab": {}
      },
      "source": [
        "# Index arrays are often used for sorting one or more arrays.\n",
        "unsorted_data = np.array([1, 3, 2, 12, -1, 5, 2])"
      ],
      "execution_count": 116,
      "outputs": []
    },
    {
      "cell_type": "code",
      "metadata": {
        "id": "Z4Jc9lK4uYZZ",
        "colab_type": "code",
        "colab": {}
      },
      "source": [
        "#mycode\n",
        "unsorted_data2 = np.array([5,7,4,-3,12,6])"
      ],
      "execution_count": 117,
      "outputs": []
    },
    {
      "cell_type": "code",
      "metadata": {
        "id": "N_Hli9VEuZTS",
        "colab_type": "code",
        "colab": {
          "base_uri": "https://localhost:8080/",
          "height": 34
        },
        "outputId": "1092329c-c129-4d11-b92c-73ee209208d7"
      },
      "source": [
        "\n",
        "sort_indices = np.argsort(unsorted_data)\n",
        "sort_indices"
      ],
      "execution_count": 118,
      "outputs": [
        {
          "output_type": "execute_result",
          "data": {
            "text/plain": [
              "array([4, 0, 2, 6, 1, 5, 3])"
            ]
          },
          "metadata": {
            "tags": []
          },
          "execution_count": 118
        }
      ]
    },
    {
      "cell_type": "code",
      "metadata": {
        "id": "pFZyYr8kuZRS",
        "colab_type": "code",
        "colab": {
          "base_uri": "https://localhost:8080/",
          "height": 34
        },
        "outputId": "7e70202d-e59d-4ec7-c28e-d4240593fac8"
      },
      "source": [
        "#mycode\n",
        "sort_indices2 = np.argsort(unsorted_data2)\n",
        "sort_indices2"
      ],
      "execution_count": 119,
      "outputs": [
        {
          "output_type": "execute_result",
          "data": {
            "text/plain": [
              "array([3, 2, 0, 5, 1, 4])"
            ]
          },
          "metadata": {
            "tags": []
          },
          "execution_count": 119
        }
      ]
    },
    {
      "cell_type": "code",
      "metadata": {
        "id": "BXibRwCguZNk",
        "colab_type": "code",
        "colab": {
          "base_uri": "https://localhost:8080/",
          "height": 34
        },
        "outputId": "76707ba1-759d-4957-ea5c-e8d6d0cb7760"
      },
      "source": [
        "unsorted_data[sort_indices]"
      ],
      "execution_count": 120,
      "outputs": [
        {
          "output_type": "execute_result",
          "data": {
            "text/plain": [
              "array([-1,  1,  2,  2,  3,  5, 12])"
            ]
          },
          "metadata": {
            "tags": []
          },
          "execution_count": 120
        }
      ]
    },
    {
      "cell_type": "code",
      "metadata": {
        "id": "V6kDSq1FuZLj",
        "colab_type": "code",
        "colab": {
          "base_uri": "https://localhost:8080/",
          "height": 34
        },
        "outputId": "cfb8aa2c-90ee-454b-d790-f1294916af0e"
      },
      "source": [
        "#mycode\n",
        "unsorted_data2[sort_indices2]"
      ],
      "execution_count": 121,
      "outputs": [
        {
          "output_type": "execute_result",
          "data": {
            "text/plain": [
              "array([-3,  4,  5,  6,  7, 12])"
            ]
          },
          "metadata": {
            "tags": []
          },
          "execution_count": 121
        }
      ]
    },
    {
      "cell_type": "code",
      "metadata": {
        "id": "XvVy4NCuuZJe",
        "colab_type": "code",
        "colab": {}
      },
      "source": [
        "market_caps = np.array([12, 6, 10, 5, 6])  # Presumably in dollars?\n",
        "assets = np.array(['A', 'B', 'C', 'D', 'E'])"
      ],
      "execution_count": 122,
      "outputs": []
    },
    {
      "cell_type": "code",
      "metadata": {
        "id": "dVl1hNvguZHd",
        "colab_type": "code",
        "colab": {}
      },
      "source": [
        "#mycode\n",
        "market_caps2 = np.array([1,2,3,1,5]) \n",
        "assets2 = np.array(['E', 'F', 'G', 'H', 'I'])"
      ],
      "execution_count": 123,
      "outputs": []
    },
    {
      "cell_type": "code",
      "metadata": {
        "id": "tXhhDZw2uZFd",
        "colab_type": "code",
        "colab": {
          "base_uri": "https://localhost:8080/",
          "height": 34
        },
        "outputId": "817fbc2b-821f-4363-a478-eaafbea9b429"
      },
      "source": [
        "# Sort assets by market cap by using the permutation that would sort market caps on ``assets``.\n",
        "sort_by_mcap = np.argsort(market_caps)\n",
        "assets[sort_by_mcap]"
      ],
      "execution_count": 124,
      "outputs": [
        {
          "output_type": "execute_result",
          "data": {
            "text/plain": [
              "array(['D', 'B', 'E', 'C', 'A'], dtype='<U1')"
            ]
          },
          "metadata": {
            "tags": []
          },
          "execution_count": 124
        }
      ]
    },
    {
      "cell_type": "code",
      "metadata": {
        "id": "-lqY1k0suZDU",
        "colab_type": "code",
        "colab": {
          "base_uri": "https://localhost:8080/",
          "height": 34
        },
        "outputId": "6a23b10e-95a6-4c7a-8f69-69be9b2ee3a5"
      },
      "source": [
        "#MYCODE\n",
        "sort_by_mcap2 = np.argsort(market_caps2)\n",
        "assets2[sort_by_mcap2]"
      ],
      "execution_count": 125,
      "outputs": [
        {
          "output_type": "execute_result",
          "data": {
            "text/plain": [
              "array(['E', 'H', 'F', 'G', 'I'], dtype='<U1')"
            ]
          },
          "metadata": {
            "tags": []
          },
          "execution_count": 125
        }
      ]
    },
    {
      "cell_type": "code",
      "metadata": {
        "id": "1dMNUZpOuZBN",
        "colab_type": "code",
        "colab": {
          "base_uri": "https://localhost:8080/",
          "height": 212
        },
        "outputId": "5ec2a0c2-1d9a-41aa-858d-6bc60666c2d8"
      },
      "source": [
        "# Indexers are also useful for aligning data.\n",
        "print(\"Dates:\\n\", repr(event_dates))\n",
        "print(\"Values:\\n\", repr(event_values))\n",
        "print(\"Calendar:\\n\", repr(calendar))\n"
      ],
      "execution_count": 126,
      "outputs": [
        {
          "output_type": "stream",
          "text": [
            "Dates:\n",
            " array(['2017-01-06', '2017-01-07', '2017-01-08'], dtype='datetime64[D]')\n",
            "Values:\n",
            " array([10, 15, 20])\n",
            "Calendar:\n",
            " array(['2017-01-03', '2017-01-04', '2017-01-05', '2017-01-06',\n",
            "       '2017-01-09', '2017-01-10', '2017-01-11', '2017-01-12',\n",
            "       '2017-01-13', '2017-01-17', '2017-01-18', '2017-01-19',\n",
            "       '2017-01-20', '2017-01-23', '2017-01-24', '2017-01-25',\n",
            "       '2017-01-26', '2017-01-27', '2017-01-30', '2017-01-31',\n",
            "       '2017-02-01'], dtype='datetime64[D]')\n"
          ],
          "name": "stdout"
        }
      ]
    },
    {
      "cell_type": "code",
      "metadata": {
        "id": "SQlxBQb-uY_Q",
        "colab_type": "code",
        "colab": {
          "base_uri": "https://localhost:8080/",
          "height": 212
        },
        "outputId": "cbdf796d-4ba4-4f53-f759-31ad5533cb8d"
      },
      "source": [
        "#MYCODE\n",
        "print(\"Dates:\\n\", repr(event_dates))\n",
        "print(\"Values:\\n\", repr(event_values))\n",
        "print(\"Calendar:\\n\", repr(calendar))"
      ],
      "execution_count": 127,
      "outputs": [
        {
          "output_type": "stream",
          "text": [
            "Dates:\n",
            " array(['2017-01-06', '2017-01-07', '2017-01-08'], dtype='datetime64[D]')\n",
            "Values:\n",
            " array([10, 15, 20])\n",
            "Calendar:\n",
            " array(['2017-01-03', '2017-01-04', '2017-01-05', '2017-01-06',\n",
            "       '2017-01-09', '2017-01-10', '2017-01-11', '2017-01-12',\n",
            "       '2017-01-13', '2017-01-17', '2017-01-18', '2017-01-19',\n",
            "       '2017-01-20', '2017-01-23', '2017-01-24', '2017-01-25',\n",
            "       '2017-01-26', '2017-01-27', '2017-01-30', '2017-01-31',\n",
            "       '2017-02-01'], dtype='datetime64[D]')\n"
          ],
          "name": "stdout"
        }
      ]
    },
    {
      "cell_type": "code",
      "metadata": {
        "id": "BheAsS2FuY9H",
        "colab_type": "code",
        "colab": {
          "base_uri": "https://localhost:8080/",
          "height": 70
        },
        "outputId": "f54248e8-e547-4a2a-9218-f33a0f20e6fc"
      },
      "source": [
        "print(\"Raw Dates:\", event_dates)\n",
        "print(\"Indices:\", calendar.searchsorted(event_dates))\n",
        "print(\"Forward-Filled Dates:\", calendar[calendar.searchsorted(event_dates)])"
      ],
      "execution_count": 128,
      "outputs": [
        {
          "output_type": "stream",
          "text": [
            "Raw Dates: ['2017-01-06' '2017-01-07' '2017-01-08']\n",
            "Indices: [3 4 4]\n",
            "Forward-Filled Dates: ['2017-01-06' '2017-01-09' '2017-01-09']\n"
          ],
          "name": "stdout"
        }
      ]
    },
    {
      "cell_type": "code",
      "metadata": {
        "id": "Rc0XlZO7uY7O",
        "colab_type": "code",
        "colab": {
          "base_uri": "https://localhost:8080/",
          "height": 105
        },
        "outputId": "60665897-edb0-4a8d-c3d3-9da773321f28"
      },
      "source": [
        "data = np.arange(25).reshape(5, 5)\n",
        "data"
      ],
      "execution_count": 129,
      "outputs": [
        {
          "output_type": "execute_result",
          "data": {
            "text/plain": [
              "array([[ 0,  1,  2,  3,  4],\n",
              "       [ 5,  6,  7,  8,  9],\n",
              "       [10, 11, 12, 13, 14],\n",
              "       [15, 16, 17, 18, 19],\n",
              "       [20, 21, 22, 23, 24]])"
            ]
          },
          "metadata": {
            "tags": []
          },
          "execution_count": 129
        }
      ]
    },
    {
      "cell_type": "code",
      "metadata": {
        "id": "g-XpkpuvuY5U",
        "colab_type": "code",
        "colab": {
          "base_uri": "https://localhost:8080/",
          "height": 123
        },
        "outputId": "8e4a55e2-ee52-4bcc-a4bd-8ccb91888b80"
      },
      "source": [
        "#mycode\n",
        "data2 = np.arange(36).reshape(6, 6)\n",
        "data2"
      ],
      "execution_count": 130,
      "outputs": [
        {
          "output_type": "execute_result",
          "data": {
            "text/plain": [
              "array([[ 0,  1,  2,  3,  4,  5],\n",
              "       [ 6,  7,  8,  9, 10, 11],\n",
              "       [12, 13, 14, 15, 16, 17],\n",
              "       [18, 19, 20, 21, 22, 23],\n",
              "       [24, 25, 26, 27, 28, 29],\n",
              "       [30, 31, 32, 33, 34, 35]])"
            ]
          },
          "metadata": {
            "tags": []
          },
          "execution_count": 130
        }
      ]
    },
    {
      "cell_type": "code",
      "metadata": {
        "id": "lY-YvMahuY3V",
        "colab_type": "code",
        "colab": {
          "base_uri": "https://localhost:8080/",
          "height": 52
        },
        "outputId": "6226eaa4-9961-4bb2-dc61-8b50271dce5c"
      },
      "source": [
        "data[:2, :2]  # First two rows and first two columns."
      ],
      "execution_count": 131,
      "outputs": [
        {
          "output_type": "execute_result",
          "data": {
            "text/plain": [
              "array([[0, 1],\n",
              "       [5, 6]])"
            ]
          },
          "metadata": {
            "tags": []
          },
          "execution_count": 131
        }
      ]
    },
    {
      "cell_type": "code",
      "metadata": {
        "id": "WZRlAOjuuY1W",
        "colab_type": "code",
        "colab": {
          "base_uri": "https://localhost:8080/",
          "height": 70
        },
        "outputId": "2024dea6-d3cc-4834-ebd7-7c9f2110da16"
      },
      "source": [
        "#mycode\n",
        "data2[:3,:3]"
      ],
      "execution_count": 132,
      "outputs": [
        {
          "output_type": "execute_result",
          "data": {
            "text/plain": [
              "array([[ 0,  1,  2],\n",
              "       [ 6,  7,  8],\n",
              "       [12, 13, 14]])"
            ]
          },
          "metadata": {
            "tags": []
          },
          "execution_count": 132
        }
      ]
    },
    {
      "cell_type": "code",
      "metadata": {
        "id": "l32V2645uYzW",
        "colab_type": "code",
        "colab": {
          "base_uri": "https://localhost:8080/",
          "height": 52
        },
        "outputId": "e42d7a52-79a8-4278-82a8-9c710a2ed00a"
      },
      "source": [
        "data[:2, [0, -1]]  # First two rows, first and last columns."
      ],
      "execution_count": 133,
      "outputs": [
        {
          "output_type": "execute_result",
          "data": {
            "text/plain": [
              "array([[0, 4],\n",
              "       [5, 9]])"
            ]
          },
          "metadata": {
            "tags": []
          },
          "execution_count": 133
        }
      ]
    },
    {
      "cell_type": "code",
      "metadata": {
        "id": "nK63jn0_uYxf",
        "colab_type": "code",
        "colab": {
          "base_uri": "https://localhost:8080/",
          "height": 70
        },
        "outputId": "9c480c99-9d02-433c-eca9-6e7521eb37f4"
      },
      "source": [
        "#mycode\n",
        "data2[:3,[1,-1]]"
      ],
      "execution_count": 137,
      "outputs": [
        {
          "output_type": "execute_result",
          "data": {
            "text/plain": [
              "array([[ 1,  5],\n",
              "       [ 7, 11],\n",
              "       [13, 17]])"
            ]
          },
          "metadata": {
            "tags": []
          },
          "execution_count": 137
        }
      ]
    },
    {
      "cell_type": "code",
      "metadata": {
        "id": "Ync-dBaiuYvK",
        "colab_type": "code",
        "colab": {
          "base_uri": "https://localhost:8080/",
          "height": 70
        },
        "outputId": "1cf725d2-d34a-4565-8982-5acef1bd371a"
      },
      "source": [
        "data[(data[:, 0] % 2) == 0]  # Rows where the first column is divisible by two."
      ],
      "execution_count": 138,
      "outputs": [
        {
          "output_type": "execute_result",
          "data": {
            "text/plain": [
              "array([[ 0,  1,  2,  3,  4],\n",
              "       [10, 11, 12, 13, 14],\n",
              "       [20, 21, 22, 23, 24]])"
            ]
          },
          "metadata": {
            "tags": []
          },
          "execution_count": 138
        }
      ]
    },
    {
      "cell_type": "code",
      "metadata": {
        "id": "4JRDRvjjuYXf",
        "colab_type": "code",
        "colab": {
          "base_uri": "https://localhost:8080/",
          "height": 123
        },
        "outputId": "59d1d8a0-a266-4f5e-9492-0af261179342"
      },
      "source": [
        "#mycode\n",
        "data2[(data2[:, 0] % 2) == 0]"
      ],
      "execution_count": 139,
      "outputs": [
        {
          "output_type": "execute_result",
          "data": {
            "text/plain": [
              "array([[ 0,  1,  2,  3,  4,  5],\n",
              "       [ 6,  7,  8,  9, 10, 11],\n",
              "       [12, 13, 14, 15, 16, 17],\n",
              "       [18, 19, 20, 21, 22, 23],\n",
              "       [24, 25, 26, 27, 28, 29],\n",
              "       [30, 31, 32, 33, 34, 35]])"
            ]
          },
          "metadata": {
            "tags": []
          },
          "execution_count": 139
        }
      ]
    },
    {
      "cell_type": "markdown",
      "metadata": {
        "id": "fOIMxE3avHXN",
        "colab_type": "text"
      },
      "source": [
        "# Selections Review"
      ]
    },
    {
      "cell_type": "code",
      "metadata": {
        "id": "z1HIS45fvFae",
        "colab_type": "code",
        "colab": {}
      },
      "source": [
        "def variance(x):\n",
        "    return ((x - x.mean()) ** 2).sum() / len(x)"
      ],
      "execution_count": 140,
      "outputs": []
    },
    {
      "cell_type": "code",
      "metadata": {
        "id": "6fMBy8ncvGZX",
        "colab_type": "code",
        "colab": {
          "base_uri": "https://localhost:8080/",
          "height": 34
        },
        "outputId": "db2f03c6-5890-45ca-e594-fb1aedf72600"
      },
      "source": [
        "variance(np.random.standard_normal(1000))\n"
      ],
      "execution_count": 141,
      "outputs": [
        {
          "output_type": "execute_result",
          "data": {
            "text/plain": [
              "1.0313627371267216"
            ]
          },
          "metadata": {
            "tags": []
          },
          "execution_count": 141
        }
      ]
    },
    {
      "cell_type": "code",
      "metadata": {
        "id": "vrWcmzxDvGW1",
        "colab_type": "code",
        "colab": {
          "base_uri": "https://localhost:8080/",
          "height": 34
        },
        "outputId": "0caedd07-b423-4edf-8111-1031ab9fd9e6"
      },
      "source": [
        "#mycode\n",
        "variance(np.random.standard_normal(2000))"
      ],
      "execution_count": 142,
      "outputs": [
        {
          "output_type": "execute_result",
          "data": {
            "text/plain": [
              "0.9521636431599496"
            ]
          },
          "metadata": {
            "tags": []
          },
          "execution_count": 142
        }
      ]
    },
    {
      "cell_type": "code",
      "metadata": {
        "id": "EuMC2PZ9vGP7",
        "colab_type": "code",
        "colab": {
          "base_uri": "https://localhost:8080/",
          "height": 34
        },
        "outputId": "8c5ffa83-89f8-46a6-918c-c208ba350d59"
      },
      "source": [
        "data = np.arange(30)\n",
        "data.mean()"
      ],
      "execution_count": 143,
      "outputs": [
        {
          "output_type": "execute_result",
          "data": {
            "text/plain": [
              "14.5"
            ]
          },
          "metadata": {
            "tags": []
          },
          "execution_count": 143
        }
      ]
    },
    {
      "cell_type": "code",
      "metadata": {
        "id": "Ja40fPnrvGLi",
        "colab_type": "code",
        "colab": {
          "base_uri": "https://localhost:8080/",
          "height": 34
        },
        "outputId": "0f29a2bf-f499-4cfc-ef92-6ea62dcdff9b"
      },
      "source": [
        "#mycode\n",
        "data2 = np.arange(60)\n",
        "data2.mean()"
      ],
      "execution_count": 144,
      "outputs": [
        {
          "output_type": "execute_result",
          "data": {
            "text/plain": [
              "29.5"
            ]
          },
          "metadata": {
            "tags": []
          },
          "execution_count": 144
        }
      ]
    },
    {
      "cell_type": "code",
      "metadata": {
        "id": "o6oukTH6vGHp",
        "colab_type": "code",
        "colab": {
          "base_uri": "https://localhost:8080/",
          "height": 70
        },
        "outputId": "5a3d53a4-ec4d-46b8-c1c1-c70f1989ad18"
      },
      "source": [
        "data = np.arange(30).reshape(3, 10)\n",
        "data"
      ],
      "execution_count": 145,
      "outputs": [
        {
          "output_type": "execute_result",
          "data": {
            "text/plain": [
              "array([[ 0,  1,  2,  3,  4,  5,  6,  7,  8,  9],\n",
              "       [10, 11, 12, 13, 14, 15, 16, 17, 18, 19],\n",
              "       [20, 21, 22, 23, 24, 25, 26, 27, 28, 29]])"
            ]
          },
          "metadata": {
            "tags": []
          },
          "execution_count": 145
        }
      ]
    },
    {
      "cell_type": "code",
      "metadata": {
        "id": "P1zupaIFvGEm",
        "colab_type": "code",
        "colab": {
          "base_uri": "https://localhost:8080/",
          "height": 105
        },
        "outputId": "5d8de02c-5bd0-4dae-b1d7-01ade5bcbad0"
      },
      "source": [
        "#mycode\n",
        "data2 = np.arange(50).reshape(5, 10)\n",
        "data2"
      ],
      "execution_count": 148,
      "outputs": [
        {
          "output_type": "execute_result",
          "data": {
            "text/plain": [
              "array([[ 0,  1,  2,  3,  4,  5,  6,  7,  8,  9],\n",
              "       [10, 11, 12, 13, 14, 15, 16, 17, 18, 19],\n",
              "       [20, 21, 22, 23, 24, 25, 26, 27, 28, 29],\n",
              "       [30, 31, 32, 33, 34, 35, 36, 37, 38, 39],\n",
              "       [40, 41, 42, 43, 44, 45, 46, 47, 48, 49]])"
            ]
          },
          "metadata": {
            "tags": []
          },
          "execution_count": 148
        }
      ]
    },
    {
      "cell_type": "code",
      "metadata": {
        "id": "MQbt4CJzvGBi",
        "colab_type": "code",
        "colab": {
          "base_uri": "https://localhost:8080/",
          "height": 34
        },
        "outputId": "114ef8dd-5fac-459c-8b68-c32490a4468b"
      },
      "source": [
        "data.mean()"
      ],
      "execution_count": 149,
      "outputs": [
        {
          "output_type": "execute_result",
          "data": {
            "text/plain": [
              "14.5"
            ]
          },
          "metadata": {
            "tags": []
          },
          "execution_count": 149
        }
      ]
    },
    {
      "cell_type": "code",
      "metadata": {
        "id": "clvksXMbvF-N",
        "colab_type": "code",
        "colab": {
          "base_uri": "https://localhost:8080/",
          "height": 34
        },
        "outputId": "0915f837-489d-47b2-e697-3e3e924b5c4a"
      },
      "source": [
        "#mycode\n",
        "data2.mean()"
      ],
      "execution_count": 150,
      "outputs": [
        {
          "output_type": "execute_result",
          "data": {
            "text/plain": [
              "24.5"
            ]
          },
          "metadata": {
            "tags": []
          },
          "execution_count": 150
        }
      ]
    },
    {
      "cell_type": "code",
      "metadata": {
        "id": "L02aHr2HvFXV",
        "colab_type": "code",
        "colab": {
          "base_uri": "https://localhost:8080/",
          "height": 34
        },
        "outputId": "d3142eeb-0d91-4991-894d-7362919afeab"
      },
      "source": [
        "data.mean(axis=0)"
      ],
      "execution_count": 151,
      "outputs": [
        {
          "output_type": "execute_result",
          "data": {
            "text/plain": [
              "array([10., 11., 12., 13., 14., 15., 16., 17., 18., 19.])"
            ]
          },
          "metadata": {
            "tags": []
          },
          "execution_count": 151
        }
      ]
    },
    {
      "cell_type": "code",
      "metadata": {
        "id": "J-I1-JT7vFUA",
        "colab_type": "code",
        "colab": {
          "base_uri": "https://localhost:8080/",
          "height": 34
        },
        "outputId": "4a590434-1f25-4163-8bcf-d28c529cd47b"
      },
      "source": [
        "#mycode\n",
        "data2.mean(axis=0)"
      ],
      "execution_count": 152,
      "outputs": [
        {
          "output_type": "execute_result",
          "data": {
            "text/plain": [
              "array([20., 21., 22., 23., 24., 25., 26., 27., 28., 29.])"
            ]
          },
          "metadata": {
            "tags": []
          },
          "execution_count": 152
        }
      ]
    },
    {
      "cell_type": "code",
      "metadata": {
        "id": "Db7v1MQOvFRp",
        "colab_type": "code",
        "colab": {
          "base_uri": "https://localhost:8080/",
          "height": 34
        },
        "outputId": "b3ad4229-b1fd-47b3-e3b3-4038274abda9"
      },
      "source": [
        "data.mean(axis=1)"
      ],
      "execution_count": 153,
      "outputs": [
        {
          "output_type": "execute_result",
          "data": {
            "text/plain": [
              "array([ 4.5, 14.5, 24.5])"
            ]
          },
          "metadata": {
            "tags": []
          },
          "execution_count": 153
        }
      ]
    },
    {
      "cell_type": "code",
      "metadata": {
        "id": "UJedx-QMvFOV",
        "colab_type": "code",
        "colab": {
          "base_uri": "https://localhost:8080/",
          "height": 34
        },
        "outputId": "e0887035-1e5d-4d1d-fe97-fec2f2160b8d"
      },
      "source": [
        "#mycode\n",
        "data2.mean(axis=1)"
      ],
      "execution_count": 154,
      "outputs": [
        {
          "output_type": "execute_result",
          "data": {
            "text/plain": [
              "array([ 4.5, 14.5, 24.5, 34.5, 44.5])"
            ]
          },
          "metadata": {
            "tags": []
          },
          "execution_count": 154
        }
      ]
    },
    {
      "cell_type": "markdown",
      "metadata": {
        "id": "9imgdOanvjIl",
        "colab_type": "text"
      },
      "source": [
        "# Broadcasting"
      ]
    },
    {
      "cell_type": "code",
      "metadata": {
        "id": "RbWCtljqvFLS",
        "colab_type": "code",
        "colab": {
          "base_uri": "https://localhost:8080/",
          "height": 123
        },
        "outputId": "784d7295-681e-4003-d7d9-c7e8595890fb"
      },
      "source": [
        "row = np.array([1, 2, 3, 4])\n",
        "column = np.array([[1], [2], [3]])\n",
        "print(\"Row:\\n\", row, sep='')\n",
        "print(\"Column:\\n\", column, sep='')"
      ],
      "execution_count": 155,
      "outputs": [
        {
          "output_type": "stream",
          "text": [
            "Row:\n",
            "[1 2 3 4]\n",
            "Column:\n",
            "[[1]\n",
            " [2]\n",
            " [3]]\n"
          ],
          "name": "stdout"
        }
      ]
    },
    {
      "cell_type": "code",
      "metadata": {
        "id": "Wkhp4U8AvFIQ",
        "colab_type": "code",
        "colab": {
          "base_uri": "https://localhost:8080/",
          "height": 123
        },
        "outputId": "9e795513-bb50-4977-93cc-1ec7a7bf3a27"
      },
      "source": [
        "#mycode\n",
        "row2 = np.array([1,2,3,5])\n",
        "column2 = np.array([[2], [6], [7]])\n",
        "print(\"Row:\\n\", row2, sep='')\n",
        "print(\"Column:\\n\", column2, sep='')"
      ],
      "execution_count": 156,
      "outputs": [
        {
          "output_type": "stream",
          "text": [
            "Row:\n",
            "[1 2 3 5]\n",
            "Column:\n",
            "[[2]\n",
            " [6]\n",
            " [7]]\n"
          ],
          "name": "stdout"
        }
      ]
    },
    {
      "cell_type": "code",
      "metadata": {
        "id": "AkQIxz71vFFO",
        "colab_type": "code",
        "colab": {
          "base_uri": "https://localhost:8080/",
          "height": 70
        },
        "outputId": "1cea88e4-d0c3-4db9-f5a9-ac1db5ef44f9"
      },
      "source": [
        "row + column\n"
      ],
      "execution_count": 157,
      "outputs": [
        {
          "output_type": "execute_result",
          "data": {
            "text/plain": [
              "array([[2, 3, 4, 5],\n",
              "       [3, 4, 5, 6],\n",
              "       [4, 5, 6, 7]])"
            ]
          },
          "metadata": {
            "tags": []
          },
          "execution_count": 157
        }
      ]
    },
    {
      "cell_type": "code",
      "metadata": {
        "id": "JJMbaovgvFB9",
        "colab_type": "code",
        "colab": {
          "base_uri": "https://localhost:8080/",
          "height": 70
        },
        "outputId": "d3b1ab7f-ea67-4483-c595-ec480a451d66"
      },
      "source": [
        "#mycode\n",
        "row2*column2"
      ],
      "execution_count": 158,
      "outputs": [
        {
          "output_type": "execute_result",
          "data": {
            "text/plain": [
              "array([[ 2,  4,  6, 10],\n",
              "       [ 6, 12, 18, 30],\n",
              "       [ 7, 14, 21, 35]])"
            ]
          },
          "metadata": {
            "tags": []
          },
          "execution_count": 158
        }
      ]
    },
    {
      "cell_type": "code",
      "metadata": {
        "id": "P8IXcbzevE-7",
        "colab_type": "code",
        "colab": {
          "base_uri": "https://localhost:8080/",
          "height": 194
        },
        "outputId": "d1eb2d64-1cc5-4ead-a525-a5df288ffb01"
      },
      "source": [
        "# Broadcasting is particularly useful in conjunction with reductions.\n",
        "print(\"Data:\\n\", data, sep='')\n",
        "print(\"Mean:\\n\", data.mean(axis=0), sep='')\n",
        "print(\"Data - Mean:\\n\", data - data.mean(axis=0), sep='')"
      ],
      "execution_count": 159,
      "outputs": [
        {
          "output_type": "stream",
          "text": [
            "Data:\n",
            "[[ 0  1  2  3  4  5  6  7  8  9]\n",
            " [10 11 12 13 14 15 16 17 18 19]\n",
            " [20 21 22 23 24 25 26 27 28 29]]\n",
            "Mean:\n",
            "[10. 11. 12. 13. 14. 15. 16. 17. 18. 19.]\n",
            "Data - Mean:\n",
            "[[-10. -10. -10. -10. -10. -10. -10. -10. -10. -10.]\n",
            " [  0.   0.   0.   0.   0.   0.   0.   0.   0.   0.]\n",
            " [ 10.  10.  10.  10.  10.  10.  10.  10.  10.  10.]]\n"
          ],
          "name": "stdout"
        }
      ]
    },
    {
      "cell_type": "code",
      "metadata": {
        "id": "nMYbzmM7vE7r",
        "colab_type": "code",
        "colab": {
          "base_uri": "https://localhost:8080/",
          "height": 265
        },
        "outputId": "141ac0ba-f015-48f6-e6ae-b7d3284c2b7c"
      },
      "source": [
        "#mycode\n",
        "print(\"Data:\\n\", data2, sep='')\n",
        "print(\"Mean:\\n\", data2.mean(axis=0), sep='')\n",
        "print(\"Data - Mean:\\n\", data2 - data2.mean(axis=0), sep='')"
      ],
      "execution_count": 160,
      "outputs": [
        {
          "output_type": "stream",
          "text": [
            "Data:\n",
            "[[ 0  1  2  3  4  5  6  7  8  9]\n",
            " [10 11 12 13 14 15 16 17 18 19]\n",
            " [20 21 22 23 24 25 26 27 28 29]\n",
            " [30 31 32 33 34 35 36 37 38 39]\n",
            " [40 41 42 43 44 45 46 47 48 49]]\n",
            "Mean:\n",
            "[20. 21. 22. 23. 24. 25. 26. 27. 28. 29.]\n",
            "Data - Mean:\n",
            "[[-20. -20. -20. -20. -20. -20. -20. -20. -20. -20.]\n",
            " [-10. -10. -10. -10. -10. -10. -10. -10. -10. -10.]\n",
            " [  0.   0.   0.   0.   0.   0.   0.   0.   0.   0.]\n",
            " [ 10.  10.  10.  10.  10.  10.  10.  10.  10.  10.]\n",
            " [ 20.  20.  20.  20.  20.  20.  20.  20.  20.  20.]]\n"
          ],
          "name": "stdout"
        }
      ]
    },
    {
      "cell_type": "markdown",
      "metadata": {
        "id": "FP0mWnUgv3Az",
        "colab_type": "text"
      },
      "source": [
        "# Broadcasting Review"
      ]
    },
    {
      "cell_type": "markdown",
      "metadata": {
        "id": "XIVLvL25wElY",
        "colab_type": "text"
      },
      "source": [
        "# Selection in Pandas"
      ]
    },
    {
      "cell_type": "code",
      "metadata": {
        "id": "zhrfQAzTvE4b",
        "colab_type": "code",
        "colab": {
          "base_uri": "https://localhost:8080/",
          "height": 123
        },
        "outputId": "8dea7ace-1fbb-4b73-c49e-4d9c98fc42d0"
      },
      "source": [
        "s = pd.Series(index=['a', 'b', 'c', 'd', 'e'], data=[1, 2, 3, 4, 5])\n",
        "s"
      ],
      "execution_count": 161,
      "outputs": [
        {
          "output_type": "execute_result",
          "data": {
            "text/plain": [
              "a    1\n",
              "b    2\n",
              "c    3\n",
              "d    4\n",
              "e    5\n",
              "dtype: int64"
            ]
          },
          "metadata": {
            "tags": []
          },
          "execution_count": 161
        }
      ]
    },
    {
      "cell_type": "code",
      "metadata": {
        "id": "V-vMpyo7vE1U",
        "colab_type": "code",
        "colab": {
          "base_uri": "https://localhost:8080/",
          "height": 123
        },
        "outputId": "bf5ffe73-7f79-4c0a-fcbe-1836b1fee99f"
      },
      "source": [
        "\n",
        "#mycode\n",
        "s2 = pd.Series(index=['onu', 'sod', 'sert', 'ortauc', 'ocnic'],data=[11,21,31,41,51])\n",
        "s2"
      ],
      "execution_count": 162,
      "outputs": [
        {
          "output_type": "execute_result",
          "data": {
            "text/plain": [
              "onu       11\n",
              "sod       21\n",
              "sert      31\n",
              "ortauc    41\n",
              "ocnic     51\n",
              "dtype: int64"
            ]
          },
          "metadata": {
            "tags": []
          },
          "execution_count": 162
        }
      ]
    },
    {
      "cell_type": "markdown",
      "metadata": {
        "id": "g1knPHVHwNh5",
        "colab_type": "text"
      },
      "source": [
        "# There are two pieces to a Series: the index and the values"
      ]
    },
    {
      "cell_type": "code",
      "metadata": {
        "id": "uXcCU8mTvEyQ",
        "colab_type": "code",
        "colab": {
          "base_uri": "https://localhost:8080/",
          "height": 34
        },
        "outputId": "4563b4af-6e96-40dc-fa61-e3fb3acc9fd7"
      },
      "source": [
        "# We can look up values out of a Series by position...\n",
        "s.iloc[0]"
      ],
      "execution_count": 163,
      "outputs": [
        {
          "output_type": "execute_result",
          "data": {
            "text/plain": [
              "1"
            ]
          },
          "metadata": {
            "tags": []
          },
          "execution_count": 163
        }
      ]
    },
    {
      "cell_type": "code",
      "metadata": {
        "id": "6PuaJOUZvEvM",
        "colab_type": "code",
        "colab": {
          "base_uri": "https://localhost:8080/",
          "height": 34
        },
        "outputId": "096c909c-84e9-4706-af25-99c37112f78e"
      },
      "source": [
        "#mycod\n",
        "s2.iloc[0]"
      ],
      "execution_count": 164,
      "outputs": [
        {
          "output_type": "execute_result",
          "data": {
            "text/plain": [
              "11"
            ]
          },
          "metadata": {
            "tags": []
          },
          "execution_count": 164
        }
      ]
    },
    {
      "cell_type": "code",
      "metadata": {
        "id": "Wie7X743vEsA",
        "colab_type": "code",
        "colab": {
          "base_uri": "https://localhost:8080/",
          "height": 34
        },
        "outputId": "50bc0720-51f3-411f-9361-c814c075ed4b"
      },
      "source": [
        "# ... or by label.\n",
        "s.loc['a']"
      ],
      "execution_count": 165,
      "outputs": [
        {
          "output_type": "execute_result",
          "data": {
            "text/plain": [
              "1"
            ]
          },
          "metadata": {
            "tags": []
          },
          "execution_count": 165
        }
      ]
    },
    {
      "cell_type": "code",
      "metadata": {
        "id": "C-eQc6mvvEpM",
        "colab_type": "code",
        "colab": {
          "base_uri": "https://localhost:8080/",
          "height": 34
        },
        "outputId": "3285faba-1d8a-4c73-d90b-0a46eddec0f2"
      },
      "source": [
        "#mycod\n",
        "s2.loc['onu']"
      ],
      "execution_count": 166,
      "outputs": [
        {
          "output_type": "execute_result",
          "data": {
            "text/plain": [
              "11"
            ]
          },
          "metadata": {
            "tags": []
          },
          "execution_count": 166
        }
      ]
    },
    {
      "cell_type": "code",
      "metadata": {
        "id": "OWq_SF_vvEmQ",
        "colab_type": "code",
        "colab": {
          "base_uri": "https://localhost:8080/",
          "height": 70
        },
        "outputId": "0cf0a820-0366-4743-8e98-dcac2906f9f7"
      },
      "source": [
        "# Slicing works as expected...\n",
        "s.iloc[:2]"
      ],
      "execution_count": 167,
      "outputs": [
        {
          "output_type": "execute_result",
          "data": {
            "text/plain": [
              "a    1\n",
              "b    2\n",
              "dtype: int64"
            ]
          },
          "metadata": {
            "tags": []
          },
          "execution_count": 167
        }
      ]
    },
    {
      "cell_type": "code",
      "metadata": {
        "id": "U6Kp_i17vEkB",
        "colab_type": "code",
        "colab": {
          "base_uri": "https://localhost:8080/",
          "height": 70
        },
        "outputId": "8504b5f9-c038-4273-f45e-f128a996e7c0"
      },
      "source": [
        "#mycod\n",
        "s2.iloc[:2]"
      ],
      "execution_count": 168,
      "outputs": [
        {
          "output_type": "execute_result",
          "data": {
            "text/plain": [
              "onu    11\n",
              "sod    21\n",
              "dtype: int64"
            ]
          },
          "metadata": {
            "tags": []
          },
          "execution_count": 168
        }
      ]
    },
    {
      "cell_type": "code",
      "metadata": {
        "id": "mWnPEscfuYU-",
        "colab_type": "code",
        "colab": {
          "base_uri": "https://localhost:8080/",
          "height": 87
        },
        "outputId": "80c364ad-c094-423f-f93c-e64edf8687c4"
      },
      "source": [
        "# ...but it works with labels too!\n",
        "s.loc[:'c']"
      ],
      "execution_count": 169,
      "outputs": [
        {
          "output_type": "execute_result",
          "data": {
            "text/plain": [
              "a    1\n",
              "b    2\n",
              "c    3\n",
              "dtype: int64"
            ]
          },
          "metadata": {
            "tags": []
          },
          "execution_count": 169
        }
      ]
    },
    {
      "cell_type": "code",
      "metadata": {
        "id": "3Zon7xLZwfzY",
        "colab_type": "code",
        "colab": {
          "base_uri": "https://localhost:8080/",
          "height": 70
        },
        "outputId": "c129f338-2a0e-4ed3-98d7-511038f612ee"
      },
      "source": [
        "#mycod\n",
        "s2.loc[:'sod ']"
      ],
      "execution_count": 171,
      "outputs": [
        {
          "output_type": "execute_result",
          "data": {
            "text/plain": [
              "onu    11\n",
              "sod    21\n",
              "dtype: int64"
            ]
          },
          "metadata": {
            "tags": []
          },
          "execution_count": 171
        }
      ]
    },
    {
      "cell_type": "code",
      "metadata": {
        "id": "ozGyo8y6whqn",
        "colab_type": "code",
        "colab": {
          "base_uri": "https://localhost:8080/",
          "height": 70
        },
        "outputId": "91782aa9-e1ef-46a2-ef4f-d8bb1b555c58"
      },
      "source": [
        "# Fancy indexing works the same as in numpy.\n",
        "s.iloc[[0, -2]]"
      ],
      "execution_count": 173,
      "outputs": [
        {
          "output_type": "execute_result",
          "data": {
            "text/plain": [
              "a    1\n",
              "d    4\n",
              "dtype: int64"
            ]
          },
          "metadata": {
            "tags": []
          },
          "execution_count": 173
        }
      ]
    },
    {
      "cell_type": "code",
      "metadata": {
        "id": "d7KmbVzQwhmY",
        "colab_type": "code",
        "colab": {
          "base_uri": "https://localhost:8080/",
          "height": 70
        },
        "outputId": "80d9368c-4902-441a-e3e5-06ad13ad45d6"
      },
      "source": [
        "#mycod\n",
        "s2.iloc[[1,-1]]"
      ],
      "execution_count": 174,
      "outputs": [
        {
          "output_type": "execute_result",
          "data": {
            "text/plain": [
              "sod      21\n",
              "ocnic    51\n",
              "dtype: int64"
            ]
          },
          "metadata": {
            "tags": []
          },
          "execution_count": 174
        }
      ]
    },
    {
      "cell_type": "code",
      "metadata": {
        "id": "pFv2BeT3whhk",
        "colab_type": "code",
        "colab": {
          "base_uri": "https://localhost:8080/",
          "height": 70
        },
        "outputId": "8da32625-537a-43bd-8272-42684fc9bb9f"
      },
      "source": [
        "# As does boolean masking.\n",
        "s.loc[s > 3]"
      ],
      "execution_count": 175,
      "outputs": [
        {
          "output_type": "execute_result",
          "data": {
            "text/plain": [
              "d    4\n",
              "e    5\n",
              "dtype: int64"
            ]
          },
          "metadata": {
            "tags": []
          },
          "execution_count": 175
        }
      ]
    },
    {
      "cell_type": "code",
      "metadata": {
        "id": "rcl3tcBrwhd2",
        "colab_type": "code",
        "colab": {
          "base_uri": "https://localhost:8080/",
          "height": 123
        },
        "outputId": "b3d588e1-6374-4ac5-9dde-b9ad3cea9419"
      },
      "source": [
        "#mycod\n",
        "s2.loc[s2>2]"
      ],
      "execution_count": 176,
      "outputs": [
        {
          "output_type": "execute_result",
          "data": {
            "text/plain": [
              "onu       11\n",
              "sod       21\n",
              "sert      31\n",
              "ortauc    41\n",
              "ocnic     51\n",
              "dtype: int64"
            ]
          },
          "metadata": {
            "tags": []
          },
          "execution_count": 176
        }
      ]
    },
    {
      "cell_type": "code",
      "metadata": {
        "id": "HoMrd1_FwhaK",
        "colab_type": "code",
        "colab": {
          "base_uri": "https://localhost:8080/",
          "height": 105
        },
        "outputId": "0f88c555-b5d3-4aa7-c42f-ec66854318bb"
      },
      "source": [
        "# Element-wise operations are aligned by index.\n",
        "other_s = pd.Series({'a': 10.0, 'c': 20.0, 'd': 30.0, 'z': 40.0})\n",
        "other_s"
      ],
      "execution_count": 177,
      "outputs": [
        {
          "output_type": "execute_result",
          "data": {
            "text/plain": [
              "a    10.0\n",
              "c    20.0\n",
              "d    30.0\n",
              "z    40.0\n",
              "dtype: float64"
            ]
          },
          "metadata": {
            "tags": []
          },
          "execution_count": 177
        }
      ]
    },
    {
      "cell_type": "code",
      "metadata": {
        "id": "bglNNYvDwhXn",
        "colab_type": "code",
        "colab": {
          "base_uri": "https://localhost:8080/",
          "height": 105
        },
        "outputId": "3230de6a-ddf8-4f0b-d8f7-5eb8597e885d"
      },
      "source": [
        "#mycode\n",
        "other_s2=pd.Series({'uno': 11.0, 'dos': 22.0, 'tres': 33.0, 'cuatro': 44.0})\n",
        "other_s2"
      ],
      "execution_count": 178,
      "outputs": [
        {
          "output_type": "execute_result",
          "data": {
            "text/plain": [
              "uno       11.0\n",
              "dos       22.0\n",
              "tres      33.0\n",
              "cuatro    44.0\n",
              "dtype: float64"
            ]
          },
          "metadata": {
            "tags": []
          },
          "execution_count": 178
        }
      ]
    },
    {
      "cell_type": "code",
      "metadata": {
        "id": "y5M0yR3TwhUK",
        "colab_type": "code",
        "colab": {
          "base_uri": "https://localhost:8080/",
          "height": 141
        },
        "outputId": "8cbb8066-e36d-4c15-c56a-b26c7d5064ce"
      },
      "source": [
        "s + other_s"
      ],
      "execution_count": 179,
      "outputs": [
        {
          "output_type": "execute_result",
          "data": {
            "text/plain": [
              "a    11.0\n",
              "b     NaN\n",
              "c    23.0\n",
              "d    34.0\n",
              "e     NaN\n",
              "z     NaN\n",
              "dtype: float64"
            ]
          },
          "metadata": {
            "tags": []
          },
          "execution_count": 179
        }
      ]
    },
    {
      "cell_type": "code",
      "metadata": {
        "id": "9A9utbxVwhQc",
        "colab_type": "code",
        "colab": {
          "base_uri": "https://localhost:8080/",
          "height": 194
        },
        "outputId": "6248dafd-72bb-46f5-fdb4-f85cfb5360c5"
      },
      "source": [
        "#mycode\n",
        "s2+other_s2"
      ],
      "execution_count": 180,
      "outputs": [
        {
          "output_type": "execute_result",
          "data": {
            "text/plain": [
              "cuatro   NaN\n",
              "dos      NaN\n",
              "ocnic    NaN\n",
              "onu      NaN\n",
              "ortauc   NaN\n",
              "sert     NaN\n",
              "sod      NaN\n",
              "tres     NaN\n",
              "uno      NaN\n",
              "dtype: float64"
            ]
          },
          "metadata": {
            "tags": []
          },
          "execution_count": 180
        }
      ]
    },
    {
      "cell_type": "code",
      "metadata": {
        "id": "KISgf_WiwhLq",
        "colab_type": "code",
        "colab": {
          "base_uri": "https://localhost:8080/",
          "height": 141
        },
        "outputId": "1d9d3bff-c182-4a4f-f87e-d8c02bb6f238"
      },
      "source": [
        "# We can fill in missing values with fillna().\n",
        "(s + other_s).fillna(0.0)"
      ],
      "execution_count": 181,
      "outputs": [
        {
          "output_type": "execute_result",
          "data": {
            "text/plain": [
              "a    11.0\n",
              "b     0.0\n",
              "c    23.0\n",
              "d    34.0\n",
              "e     0.0\n",
              "z     0.0\n",
              "dtype: float64"
            ]
          },
          "metadata": {
            "tags": []
          },
          "execution_count": 181
        }
      ]
    },
    {
      "cell_type": "code",
      "metadata": {
        "id": "6LQLmuKGwhGF",
        "colab_type": "code",
        "colab": {
          "base_uri": "https://localhost:8080/",
          "height": 194
        },
        "outputId": "825909ba-77ba-4a3d-bf89-c0b589afd266"
      },
      "source": [
        "\n",
        "#mycode\n",
        "(s2 + other_s2).fillna(0.0)"
      ],
      "execution_count": 182,
      "outputs": [
        {
          "output_type": "execute_result",
          "data": {
            "text/plain": [
              "cuatro    0.0\n",
              "dos       0.0\n",
              "ocnic     0.0\n",
              "onu       0.0\n",
              "ortauc    0.0\n",
              "sert      0.0\n",
              "sod       0.0\n",
              "tres      0.0\n",
              "uno       0.0\n",
              "dtype: float64"
            ]
          },
          "metadata": {
            "tags": []
          },
          "execution_count": 182
        }
      ]
    },
    {
      "cell_type": "code",
      "metadata": {
        "id": "7BxPQhdIwfv1",
        "colab_type": "code",
        "colab": {}
      },
      "source": [
        "# Most real datasets are read in from an external file format.\n",
        "aapl = pd.read_csv('AAPL.csv', parse_dates=['Date'], index_col='Date')\n",
        "aapl.head()"
      ],
      "execution_count": null,
      "outputs": []
    },
    {
      "cell_type": "code",
      "metadata": {
        "id": "-7bKt0ZEwfsS",
        "colab_type": "code",
        "colab": {
          "base_uri": "https://localhost:8080/",
          "height": 185
        },
        "outputId": "503f4111-85fb-40cd-f4be-832304e4cb4a"
      },
      "source": [
        "# Slicing generalizes to two dimensions as you'd expect:\n",
        "aapl.iloc[:2, :2]"
      ],
      "execution_count": 184,
      "outputs": [
        {
          "output_type": "error",
          "ename": "NameError",
          "evalue": "ignored",
          "traceback": [
            "\u001b[0;31m---------------------------------------------------------------------------\u001b[0m",
            "\u001b[0;31mNameError\u001b[0m                                 Traceback (most recent call last)",
            "\u001b[0;32m<ipython-input-184-648c456933ce>\u001b[0m in \u001b[0;36m<module>\u001b[0;34m()\u001b[0m\n\u001b[1;32m      1\u001b[0m \u001b[0;31m# Slicing generalizes to two dimensions as you'd expect:\u001b[0m\u001b[0;34m\u001b[0m\u001b[0;34m\u001b[0m\u001b[0;34m\u001b[0m\u001b[0m\n\u001b[0;32m----> 2\u001b[0;31m \u001b[0maapl\u001b[0m\u001b[0;34m.\u001b[0m\u001b[0miloc\u001b[0m\u001b[0;34m[\u001b[0m\u001b[0;34m:\u001b[0m\u001b[0;36m2\u001b[0m\u001b[0;34m,\u001b[0m \u001b[0;34m:\u001b[0m\u001b[0;36m2\u001b[0m\u001b[0;34m]\u001b[0m\u001b[0;34m\u001b[0m\u001b[0;34m\u001b[0m\u001b[0m\n\u001b[0m",
            "\u001b[0;31mNameError\u001b[0m: name 'aapl' is not defined"
          ]
        }
      ]
    },
    {
      "cell_type": "code",
      "metadata": {
        "id": "NM_ZGRUYwfo8",
        "colab_type": "code",
        "colab": {
          "base_uri": "https://localhost:8080/",
          "height": 185
        },
        "outputId": "b58f4628-c98f-4ad3-8c28-c93053cd98d7"
      },
      "source": [
        "#mycode\n",
        "aapl.iloc[:3,:3]"
      ],
      "execution_count": 185,
      "outputs": [
        {
          "output_type": "error",
          "ename": "NameError",
          "evalue": "ignored",
          "traceback": [
            "\u001b[0;31m---------------------------------------------------------------------------\u001b[0m",
            "\u001b[0;31mNameError\u001b[0m                                 Traceback (most recent call last)",
            "\u001b[0;32m<ipython-input-185-948574c9ff8b>\u001b[0m in \u001b[0;36m<module>\u001b[0;34m()\u001b[0m\n\u001b[1;32m      1\u001b[0m \u001b[0;31m#mycode\u001b[0m\u001b[0;34m\u001b[0m\u001b[0;34m\u001b[0m\u001b[0;34m\u001b[0m\u001b[0m\n\u001b[0;32m----> 2\u001b[0;31m \u001b[0maapl\u001b[0m\u001b[0;34m.\u001b[0m\u001b[0miloc\u001b[0m\u001b[0;34m[\u001b[0m\u001b[0;34m:\u001b[0m\u001b[0;36m3\u001b[0m\u001b[0;34m,\u001b[0m\u001b[0;34m:\u001b[0m\u001b[0;36m3\u001b[0m\u001b[0;34m]\u001b[0m\u001b[0;34m\u001b[0m\u001b[0;34m\u001b[0m\u001b[0m\n\u001b[0m",
            "\u001b[0;31mNameError\u001b[0m: name 'aapl' is not defined"
          ]
        }
      ]
    },
    {
      "cell_type": "code",
      "metadata": {
        "id": "K-YT6_M2wflh",
        "colab_type": "code",
        "colab": {
          "base_uri": "https://localhost:8080/",
          "height": 185
        },
        "outputId": "61c86b83-716f-450e-c118-adfcb4f609c6"
      },
      "source": [
        "#mycode\n",
        "aapl.iloc[:3,:3]"
      ],
      "execution_count": 186,
      "outputs": [
        {
          "output_type": "error",
          "ename": "NameError",
          "evalue": "ignored",
          "traceback": [
            "\u001b[0;31m---------------------------------------------------------------------------\u001b[0m",
            "\u001b[0;31mNameError\u001b[0m                                 Traceback (most recent call last)",
            "\u001b[0;32m<ipython-input-186-948574c9ff8b>\u001b[0m in \u001b[0;36m<module>\u001b[0;34m()\u001b[0m\n\u001b[1;32m      1\u001b[0m \u001b[0;31m#mycode\u001b[0m\u001b[0;34m\u001b[0m\u001b[0;34m\u001b[0m\u001b[0;34m\u001b[0m\u001b[0m\n\u001b[0;32m----> 2\u001b[0;31m \u001b[0maapl\u001b[0m\u001b[0;34m.\u001b[0m\u001b[0miloc\u001b[0m\u001b[0;34m[\u001b[0m\u001b[0;34m:\u001b[0m\u001b[0;36m3\u001b[0m\u001b[0;34m,\u001b[0m\u001b[0;34m:\u001b[0m\u001b[0;36m3\u001b[0m\u001b[0;34m]\u001b[0m\u001b[0;34m\u001b[0m\u001b[0;34m\u001b[0m\u001b[0m\n\u001b[0m",
            "\u001b[0;31mNameError\u001b[0m: name 'aapl' is not defined"
          ]
        }
      ]
    },
    {
      "cell_type": "code",
      "metadata": {
        "id": "lhUy2rdxwfiF",
        "colab_type": "code",
        "colab": {
          "base_uri": "https://localhost:8080/",
          "height": 185
        },
        "outputId": "8eedf2d8-3957-4efb-b079-8f69f1fac94e"
      },
      "source": [
        "#mycode\n",
        "aapl.loc[pd.Timestamp('2010-02-08'):pd.Timestamp('2010-02-12'), ['Low', 'Open']]"
      ],
      "execution_count": 187,
      "outputs": [
        {
          "output_type": "error",
          "ename": "NameError",
          "evalue": "ignored",
          "traceback": [
            "\u001b[0;31m---------------------------------------------------------------------------\u001b[0m",
            "\u001b[0;31mNameError\u001b[0m                                 Traceback (most recent call last)",
            "\u001b[0;32m<ipython-input-187-e87dcf58b0a8>\u001b[0m in \u001b[0;36m<module>\u001b[0;34m()\u001b[0m\n\u001b[1;32m      1\u001b[0m \u001b[0;31m#mycode\u001b[0m\u001b[0;34m\u001b[0m\u001b[0;34m\u001b[0m\u001b[0;34m\u001b[0m\u001b[0m\n\u001b[0;32m----> 2\u001b[0;31m \u001b[0maapl\u001b[0m\u001b[0;34m.\u001b[0m\u001b[0mloc\u001b[0m\u001b[0;34m[\u001b[0m\u001b[0mpd\u001b[0m\u001b[0;34m.\u001b[0m\u001b[0mTimestamp\u001b[0m\u001b[0;34m(\u001b[0m\u001b[0;34m'2010-02-08'\u001b[0m\u001b[0;34m)\u001b[0m\u001b[0;34m:\u001b[0m\u001b[0mpd\u001b[0m\u001b[0;34m.\u001b[0m\u001b[0mTimestamp\u001b[0m\u001b[0;34m(\u001b[0m\u001b[0;34m'2010-02-12'\u001b[0m\u001b[0;34m)\u001b[0m\u001b[0;34m,\u001b[0m \u001b[0;34m[\u001b[0m\u001b[0;34m'Low'\u001b[0m\u001b[0;34m,\u001b[0m \u001b[0;34m'Open'\u001b[0m\u001b[0;34m]\u001b[0m\u001b[0;34m]\u001b[0m\u001b[0;34m\u001b[0m\u001b[0;34m\u001b[0m\u001b[0m\n\u001b[0m",
            "\u001b[0;31mNameError\u001b[0m: name 'aapl' is not defined"
          ]
        }
      ]
    },
    {
      "cell_type": "markdown",
      "metadata": {
        "id": "mX1c3mabxYFI",
        "colab_type": "text"
      },
      "source": [
        "# Rolling Operations"
      ]
    },
    {
      "cell_type": "code",
      "metadata": {
        "id": "CsHlqrUMxW5a",
        "colab_type": "code",
        "colab": {
          "base_uri": "https://localhost:8080/",
          "height": 167
        },
        "outputId": "f0693e6f-d30f-4afb-e299-821e86720e01"
      },
      "source": [
        "aapl.rolling(5)[['Close', 'Adj Close']].mean().plot();"
      ],
      "execution_count": 188,
      "outputs": [
        {
          "output_type": "error",
          "ename": "NameError",
          "evalue": "ignored",
          "traceback": [
            "\u001b[0;31m---------------------------------------------------------------------------\u001b[0m",
            "\u001b[0;31mNameError\u001b[0m                                 Traceback (most recent call last)",
            "\u001b[0;32m<ipython-input-188-3bc162502568>\u001b[0m in \u001b[0;36m<module>\u001b[0;34m()\u001b[0m\n\u001b[0;32m----> 1\u001b[0;31m \u001b[0maapl\u001b[0m\u001b[0;34m.\u001b[0m\u001b[0mrolling\u001b[0m\u001b[0;34m(\u001b[0m\u001b[0;36m5\u001b[0m\u001b[0;34m)\u001b[0m\u001b[0;34m[\u001b[0m\u001b[0;34m[\u001b[0m\u001b[0;34m'Close'\u001b[0m\u001b[0;34m,\u001b[0m \u001b[0;34m'Adj Close'\u001b[0m\u001b[0;34m]\u001b[0m\u001b[0;34m]\u001b[0m\u001b[0;34m.\u001b[0m\u001b[0mmean\u001b[0m\u001b[0;34m(\u001b[0m\u001b[0;34m)\u001b[0m\u001b[0;34m.\u001b[0m\u001b[0mplot\u001b[0m\u001b[0;34m(\u001b[0m\u001b[0;34m)\u001b[0m\u001b[0;34m;\u001b[0m\u001b[0;34m\u001b[0m\u001b[0;34m\u001b[0m\u001b[0m\n\u001b[0m",
            "\u001b[0;31mNameError\u001b[0m: name 'aapl' is not defined"
          ]
        }
      ]
    },
    {
      "cell_type": "code",
      "metadata": {
        "id": "HS4kfdM1wfew",
        "colab_type": "code",
        "colab": {
          "base_uri": "https://localhost:8080/",
          "height": 185
        },
        "outputId": "771f0d8a-f3bb-429e-e466-fb29f79d66ea"
      },
      "source": [
        "#mycode\n",
        "aapl.rolling(10)[['Low', 'Open']].mean().plot();"
      ],
      "execution_count": 189,
      "outputs": [
        {
          "output_type": "error",
          "ename": "NameError",
          "evalue": "ignored",
          "traceback": [
            "\u001b[0;31m---------------------------------------------------------------------------\u001b[0m",
            "\u001b[0;31mNameError\u001b[0m                                 Traceback (most recent call last)",
            "\u001b[0;32m<ipython-input-189-20a53716f08b>\u001b[0m in \u001b[0;36m<module>\u001b[0;34m()\u001b[0m\n\u001b[1;32m      1\u001b[0m \u001b[0;31m#mycode\u001b[0m\u001b[0;34m\u001b[0m\u001b[0;34m\u001b[0m\u001b[0;34m\u001b[0m\u001b[0m\n\u001b[0;32m----> 2\u001b[0;31m \u001b[0maapl\u001b[0m\u001b[0;34m.\u001b[0m\u001b[0mrolling\u001b[0m\u001b[0;34m(\u001b[0m\u001b[0;36m10\u001b[0m\u001b[0;34m)\u001b[0m\u001b[0;34m[\u001b[0m\u001b[0;34m[\u001b[0m\u001b[0;34m'Low'\u001b[0m\u001b[0;34m,\u001b[0m \u001b[0;34m'Open'\u001b[0m\u001b[0;34m]\u001b[0m\u001b[0;34m]\u001b[0m\u001b[0;34m.\u001b[0m\u001b[0mmean\u001b[0m\u001b[0;34m(\u001b[0m\u001b[0;34m)\u001b[0m\u001b[0;34m.\u001b[0m\u001b[0mplot\u001b[0m\u001b[0;34m(\u001b[0m\u001b[0;34m)\u001b[0m\u001b[0;34m;\u001b[0m\u001b[0;34m\u001b[0m\u001b[0;34m\u001b[0m\u001b[0m\n\u001b[0m",
            "\u001b[0;31mNameError\u001b[0m: name 'aapl' is not defined"
          ]
        }
      ]
    },
    {
      "cell_type": "code",
      "metadata": {
        "id": "rUa8PtQDwfbd",
        "colab_type": "code",
        "colab": {}
      },
      "source": [
        "# Drop `Volume`, since it's way bigger than everything else.\n",
        "aapl.drop('Volume', axis=1).resample('2W').max().plot();"
      ],
      "execution_count": null,
      "outputs": []
    },
    {
      "cell_type": "code",
      "metadata": {
        "id": "m553qy1pwfYG",
        "colab_type": "code",
        "colab": {}
      },
      "source": [
        "#mycode\n",
        "aapl.drop('High', axis=1).resample('2W').max().plot();"
      ],
      "execution_count": null,
      "outputs": []
    },
    {
      "cell_type": "code",
      "metadata": {
        "id": "McpwGuQawfU0",
        "colab_type": "code",
        "colab": {}
      },
      "source": [
        "# 30-day rolling exponentially-weighted stddev of returns.\n",
        "aapl['Close'].pct_change().ewm(span=30).std().plot();"
      ],
      "execution_count": null,
      "outputs": []
    },
    {
      "cell_type": "code",
      "metadata": {
        "id": "r4tO6Fq7wfRi",
        "colab_type": "code",
        "colab": {}
      },
      "source": [
        "\n",
        "#mycode\n",
        "aapl['Adj Close'].pct_change().ewm(span=30).std().plot();"
      ],
      "execution_count": null,
      "outputs": []
    },
    {
      "cell_type": "code",
      "metadata": {
        "id": "xJEV_bV6wfOO",
        "colab_type": "code",
        "colab": {}
      },
      "source": [
        "from avocados import read_avocadata\n",
        "\n",
        "avocados = read_avocadata('2014', '2016')\n",
        "avocados.head()"
      ],
      "execution_count": null,
      "outputs": []
    },
    {
      "cell_type": "code",
      "metadata": {
        "id": "hygWL4LHwfKi",
        "colab_type": "code",
        "colab": {}
      },
      "source": [
        "# Unlike numpy arrays, pandas DataFrames can have a different dtype for each column.\n",
        "avocados.dtypes"
      ],
      "execution_count": null,
      "outputs": []
    },
    {
      "cell_type": "code",
      "metadata": {
        "id": "frpzB9ubwfHC",
        "colab_type": "code",
        "colab": {}
      },
      "source": [
        "# What's the regional average price of a HASS avocado every day?\n",
        "hass = avocados[avocados.Variety == 'HASS']\n",
        "hass.groupby(['Date', 'Region'])['Weighted Avg Price'].mean().unstack().ffill().plot();"
      ],
      "execution_count": null,
      "outputs": []
    },
    {
      "cell_type": "code",
      "metadata": {
        "id": "1cKAm2kfwfDl",
        "colab_type": "code",
        "colab": {}
      },
      "source": [
        "#mycode\n",
        "hass = avocados[avocados.Variety == 'HASS']\n",
        "hass.groupby(['Date', 'Region'])['Number of Stores'].mean().unstack().ffill().plot();"
      ],
      "execution_count": null,
      "outputs": []
    },
    {
      "cell_type": "code",
      "metadata": {
        "id": "Xaw_JZZFwfAV",
        "colab_type": "code",
        "colab": {}
      },
      "source": [
        "def _organic_spread(group):\n",
        "\n",
        "    if len(group.columns) != 2:\n",
        "        return pd.Series(index=group.index, data=0.0)\n",
        "    \n",
        "    is_organic = group.columns.get_level_values('Organic').values.astype(bool)\n",
        "    organics = group.loc[:, is_organic].squeeze()\n",
        "    non_organics = group.loc[:, ~is_organic].squeeze()\n",
        "    diff = organics - non_organics\n",
        "    return diff\n",
        "\n",
        "def organic_spread_by_region(df):\n",
        "    \"\"\"What's the difference between the price of an organic \n",
        "    and non-organic avocado within each region?\n",
        "    \"\"\"\n",
        "    return (\n",
        "        df\n",
        "        .set_index(['Date', 'Region', 'Organic'])\n",
        "         ['Weighted Avg Price']\n",
        "        .unstack(level=['Region', 'Organic'])\n",
        "        .ffill()\n",
        "        .groupby(level='Region', axis=1)\n",
        "        .apply(_organic_spread)\n",
        "    )"
      ],
      "execution_count": null,
      "outputs": []
    },
    {
      "cell_type": "code",
      "metadata": {
        "id": "ZcR9U2bEwe8m",
        "colab_type": "code",
        "colab": {}
      },
      "source": [
        "organic_spread_by_region(hass).plot();\n",
        "plt.gca().set_title(\"Daily Regional Organic Spread\");\n",
        "plt.legend(bbox_to_anchor=(1, 1));"
      ],
      "execution_count": null,
      "outputs": []
    },
    {
      "cell_type": "code",
      "metadata": {
        "id": "H0Xg8vHZwe5N",
        "colab_type": "code",
        "colab": {}
      },
      "source": [
        "#mycode\n",
        "organic_spread_by_region(hass).plot();\n",
        "plt.gca().set_title(\"Daily Regional Organic Spread2\");\n",
        "plt.legend(bbox_to_anchor=(2, 2));"
      ],
      "execution_count": null,
      "outputs": []
    },
    {
      "cell_type": "code",
      "metadata": {
        "id": "6sFhbWJ9we0_",
        "colab_type": "code",
        "colab": {}
      },
      "source": [
        "spread_correlation = organic_spread_by_region(hass).corr()\n",
        "spread_correlation"
      ],
      "execution_count": null,
      "outputs": []
    },
    {
      "cell_type": "code",
      "metadata": {
        "id": "h8o1it17wexw",
        "colab_type": "code",
        "colab": {}
      },
      "source": [
        "import seaborn as sns\n",
        "grid = sns.clustermap(spread_correlation, annot=True)\n",
        "fig = grid.fig\n",
        "axes = fig.axes\n",
        "ax = axes[2]\n",
        "ax.set_xticklabels(ax.get_xticklabels(), rotation=45);"
      ],
      "execution_count": null,
      "outputs": []
    },
    {
      "cell_type": "code",
      "metadata": {
        "id": "Xt1d6gnbweuX",
        "colab_type": "code",
        "colab": {}
      },
      "source": [
        ""
      ],
      "execution_count": null,
      "outputs": []
    },
    {
      "cell_type": "code",
      "metadata": {
        "id": "OpaWISoVwerI",
        "colab_type": "code",
        "colab": {}
      },
      "source": [
        ""
      ],
      "execution_count": null,
      "outputs": []
    },
    {
      "cell_type": "code",
      "metadata": {
        "id": "i8o0lSB1wen8",
        "colab_type": "code",
        "colab": {}
      },
      "source": [
        ""
      ],
      "execution_count": null,
      "outputs": []
    },
    {
      "cell_type": "code",
      "metadata": {
        "id": "DpkGH2M7weky",
        "colab_type": "code",
        "colab": {}
      },
      "source": [
        ""
      ],
      "execution_count": null,
      "outputs": []
    },
    {
      "cell_type": "code",
      "metadata": {
        "id": "kvkp0WdAwehg",
        "colab_type": "code",
        "colab": {}
      },
      "source": [
        ""
      ],
      "execution_count": null,
      "outputs": []
    },
    {
      "cell_type": "code",
      "metadata": {
        "id": "MhUO4nTVweeU",
        "colab_type": "code",
        "colab": {}
      },
      "source": [
        ""
      ],
      "execution_count": null,
      "outputs": []
    },
    {
      "cell_type": "code",
      "metadata": {
        "id": "R1u7N5Sbweat",
        "colab_type": "code",
        "colab": {}
      },
      "source": [
        ""
      ],
      "execution_count": null,
      "outputs": []
    }
  ]
}